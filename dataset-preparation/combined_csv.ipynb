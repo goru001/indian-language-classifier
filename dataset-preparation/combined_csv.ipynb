{
 "cells": [
  {
   "cell_type": "code",
   "execution_count": 1,
   "metadata": {},
   "outputs": [],
   "source": [
    "import pandas as pd"
   ]
  },
  {
   "cell_type": "code",
   "execution_count": 2,
   "metadata": {},
   "outputs": [],
   "source": [
    "hindi = pd.read_csv('hindi.csv')"
   ]
  },
  {
   "cell_type": "code",
   "execution_count": 22,
   "metadata": {},
   "outputs": [
    {
     "data": {
      "text/html": [
       "<div>\n",
       "<style scoped>\n",
       "    .dataframe tbody tr th:only-of-type {\n",
       "        vertical-align: middle;\n",
       "    }\n",
       "\n",
       "    .dataframe tbody tr th {\n",
       "        vertical-align: top;\n",
       "    }\n",
       "\n",
       "    .dataframe thead th {\n",
       "        text-align: right;\n",
       "    }\n",
       "</style>\n",
       "<table border=\"1\" class=\"dataframe\">\n",
       "  <thead>\n",
       "    <tr style=\"text-align: right;\">\n",
       "      <th></th>\n",
       "      <th>text</th>\n",
       "      <th>label</th>\n",
       "    </tr>\n",
       "  </thead>\n",
       "  <tbody>\n",
       "    <tr>\n",
       "      <th>0</th>\n",
       "      <td>तिरिच मीर पाकिस्तान के ख़ैबर-पख़्तूनख़्वा प्रा...</td>\n",
       "      <td>hindi</td>\n",
       "    </tr>\n",
       "    <tr>\n",
       "      <th>1</th>\n",
       "      <td>ऊँचा यह पर्वत हिमालय-काराकोरम श्रेणी के बाहर ...</td>\n",
       "      <td>hindi</td>\n",
       "    </tr>\n",
       "    <tr>\n",
       "      <th>2</th>\n",
       "      <td>्राल शहर से तिरिच मीर दिखता ही है लेकिन यह पहा...</td>\n",
       "      <td>hindi</td>\n",
       "    </tr>\n",
       "    <tr>\n",
       "      <th>3</th>\n",
       "      <td>्तान के कुछ सीमाई इलाक़ों से भी देखा जा सकता ह...</td>\n",
       "      <td>hindi</td>\n",
       "    </tr>\n",
       "    <tr>\n",
       "      <th>4</th>\n",
       "      <td>या 'मालिक' होता है। 'तिरिच मीर' के पूरे नाम क...</td>\n",
       "      <td>hindi</td>\n",
       "    </tr>\n",
       "  </tbody>\n",
       "</table>\n",
       "</div>"
      ],
      "text/plain": [
       "                                                text  label\n",
       "0  तिरिच मीर पाकिस्तान के ख़ैबर-पख़्तूनख़्वा प्रा...  hindi\n",
       "1   ऊँचा यह पर्वत हिमालय-काराकोरम श्रेणी के बाहर ...  hindi\n",
       "2  ्राल शहर से तिरिच मीर दिखता ही है लेकिन यह पहा...  hindi\n",
       "3  ्तान के कुछ सीमाई इलाक़ों से भी देखा जा सकता ह...  hindi\n",
       "4   या 'मालिक' होता है। 'तिरिच मीर' के पूरे नाम क...  hindi"
      ]
     },
     "execution_count": 22,
     "metadata": {},
     "output_type": "execute_result"
    }
   ],
   "source": [
    "hindi.head()"
   ]
  },
  {
   "cell_type": "code",
   "execution_count": 4,
   "metadata": {},
   "outputs": [],
   "source": [
    "panjabi = pd.read_csv('panjabi.csv')"
   ]
  },
  {
   "cell_type": "code",
   "execution_count": 23,
   "metadata": {},
   "outputs": [
    {
     "data": {
      "text/html": [
       "<div>\n",
       "<style scoped>\n",
       "    .dataframe tbody tr th:only-of-type {\n",
       "        vertical-align: middle;\n",
       "    }\n",
       "\n",
       "    .dataframe tbody tr th {\n",
       "        vertical-align: top;\n",
       "    }\n",
       "\n",
       "    .dataframe thead th {\n",
       "        text-align: right;\n",
       "    }\n",
       "</style>\n",
       "<table border=\"1\" class=\"dataframe\">\n",
       "  <thead>\n",
       "    <tr style=\"text-align: right;\">\n",
       "      <th></th>\n",
       "      <th>text</th>\n",
       "      <th>label</th>\n",
       "    </tr>\n",
       "  </thead>\n",
       "  <tbody>\n",
       "    <tr>\n",
       "      <th>0</th>\n",
       "      <td>ਤਰਸੇਮ ਜ਼ਿਲ੍ਹਾ ਬਰਨਾਲਾ ਵਿੱਚ ਰਹਿੰਦਾ ਇੱਕ ਪੰਜਾਬੀ ਕਵ...</td>\n",
       "      <td>panjabi</td>\n",
       "    </tr>\n",
       "    <tr>\n",
       "      <th>1</th>\n",
       "      <td>ਹਨ।\\nਕਰਤਾਰ ਸਿੰਘ ਦੁੱਗਲ ਇੱਕ ਪੰਜਾਬੀ ਲੇਖਕ ਸਨ। ਉਹ ...</td>\n",
       "      <td>panjabi</td>\n",
       "    </tr>\n",
       "    <tr>\n",
       "      <th>2</th>\n",
       "      <td>ਹਾਂ ਸਾਰੇ ਖੇਤਰਾਂ ਵਿੱਚ ਮਹਿਮਾ ਪ੍ਰਾਪਤ ਕੀਤੀ। ਸ੍ਰੀ ਗ...</td>\n",
       "      <td>panjabi</td>\n",
       "    </tr>\n",
       "    <tr>\n",
       "      <th>3</th>\n",
       "      <td>ਨ ਸਿੰਘ ਦੁੱਗਲ ਅਤੇ ਸਤਵੰਤ ਕੌਰ ਦੇ ਘਰ ਹੋਇਆ। ਫਾਰਮਨ ਕ...</td>\n",
       "      <td>panjabi</td>\n",
       "    </tr>\n",
       "    <tr>\n",
       "      <th>4</th>\n",
       "      <td>42 ਤੋਂ 1966 ਤੱਕ ਵੱਖ-ਵੱਖ ਅਹੁਦਿਆਂ ‘ਤੇ ਰਹਿਕੇ ਕੰਮ ...</td>\n",
       "      <td>panjabi</td>\n",
       "    </tr>\n",
       "  </tbody>\n",
       "</table>\n",
       "</div>"
      ],
      "text/plain": [
       "                                                text    label\n",
       "0  ਤਰਸੇਮ ਜ਼ਿਲ੍ਹਾ ਬਰਨਾਲਾ ਵਿੱਚ ਰਹਿੰਦਾ ਇੱਕ ਪੰਜਾਬੀ ਕਵ...  panjabi\n",
       "1   ਹਨ।\\nਕਰਤਾਰ ਸਿੰਘ ਦੁੱਗਲ ਇੱਕ ਪੰਜਾਬੀ ਲੇਖਕ ਸਨ। ਉਹ ...  panjabi\n",
       "2  ਹਾਂ ਸਾਰੇ ਖੇਤਰਾਂ ਵਿੱਚ ਮਹਿਮਾ ਪ੍ਰਾਪਤ ਕੀਤੀ। ਸ੍ਰੀ ਗ...  panjabi\n",
       "3  ਨ ਸਿੰਘ ਦੁੱਗਲ ਅਤੇ ਸਤਵੰਤ ਕੌਰ ਦੇ ਘਰ ਹੋਇਆ। ਫਾਰਮਨ ਕ...  panjabi\n",
       "4  42 ਤੋਂ 1966 ਤੱਕ ਵੱਖ-ਵੱਖ ਅਹੁਦਿਆਂ ‘ਤੇ ਰਹਿਕੇ ਕੰਮ ...  panjabi"
      ]
     },
     "execution_count": 23,
     "metadata": {},
     "output_type": "execute_result"
    }
   ],
   "source": [
    "panjabi.head()"
   ]
  },
  {
   "cell_type": "code",
   "execution_count": 6,
   "metadata": {},
   "outputs": [],
   "source": [
    "sanskrit = pd.read_csv('sanskrit.csv')"
   ]
  },
  {
   "cell_type": "code",
   "execution_count": 24,
   "metadata": {},
   "outputs": [
    {
     "data": {
      "text/html": [
       "<div>\n",
       "<style scoped>\n",
       "    .dataframe tbody tr th:only-of-type {\n",
       "        vertical-align: middle;\n",
       "    }\n",
       "\n",
       "    .dataframe tbody tr th {\n",
       "        vertical-align: top;\n",
       "    }\n",
       "\n",
       "    .dataframe thead th {\n",
       "        text-align: right;\n",
       "    }\n",
       "</style>\n",
       "<table border=\"1\" class=\"dataframe\">\n",
       "  <thead>\n",
       "    <tr style=\"text-align: right;\">\n",
       "      <th></th>\n",
       "      <th>text</th>\n",
       "      <th>label</th>\n",
       "    </tr>\n",
       "  </thead>\n",
       "  <tbody>\n",
       "    <tr>\n",
       "      <th>0</th>\n",
       "      <td>महात्मा गान्धी इति प्रसिद्धः मोहनदासकरमचन्द गा...</td>\n",
       "      <td>sanskrit</td>\n",
       "    </tr>\n",
       "    <tr>\n",
       "      <th>1</th>\n",
       "      <td>विः रवीन्द्रनाथ ठाकुरः तं महात्मा इति शब्देन स...</td>\n",
       "      <td>sanskrit</td>\n",
       "    </tr>\n",
       "    <tr>\n",
       "      <th>2</th>\n",
       "      <td>ाः तं महात्मा गान्धी इति एव अभिजानन्ति । भारतम...</td>\n",
       "      <td>sanskrit</td>\n",
       "    </tr>\n",
       "    <tr>\n",
       "      <th>3</th>\n",
       "      <td>न्त्र्यान्दोलने सर्वेषां भारतीयानाम् आधारभूतः ...</td>\n",
       "      <td>sanskrit</td>\n",
       "    </tr>\n",
       "    <tr>\n",
       "      <th>4</th>\n",
       "      <td>श्री करमचन्द गान्धी राजकोटसंस्थाने पोरबन्दरसं...</td>\n",
       "      <td>sanskrit</td>\n",
       "    </tr>\n",
       "  </tbody>\n",
       "</table>\n",
       "</div>"
      ],
      "text/plain": [
       "                                                text     label\n",
       "0  महात्मा गान्धी इति प्रसिद्धः मोहनदासकरमचन्द गा...  sanskrit\n",
       "1  विः रवीन्द्रनाथ ठाकुरः तं महात्मा इति शब्देन स...  sanskrit\n",
       "2  ाः तं महात्मा गान्धी इति एव अभिजानन्ति । भारतम...  sanskrit\n",
       "3  न्त्र्यान्दोलने सर्वेषां भारतीयानाम् आधारभूतः ...  sanskrit\n",
       "4   श्री करमचन्द गान्धी राजकोटसंस्थाने पोरबन्दरसं...  sanskrit"
      ]
     },
     "execution_count": 24,
     "metadata": {},
     "output_type": "execute_result"
    }
   ],
   "source": [
    "sanskrit.head()"
   ]
  },
  {
   "cell_type": "code",
   "execution_count": 8,
   "metadata": {},
   "outputs": [],
   "source": [
    "bengali = pd.read_csv('bengali.csv')"
   ]
  },
  {
   "cell_type": "code",
   "execution_count": 25,
   "metadata": {},
   "outputs": [
    {
     "data": {
      "text/html": [
       "<div>\n",
       "<style scoped>\n",
       "    .dataframe tbody tr th:only-of-type {\n",
       "        vertical-align: middle;\n",
       "    }\n",
       "\n",
       "    .dataframe tbody tr th {\n",
       "        vertical-align: top;\n",
       "    }\n",
       "\n",
       "    .dataframe thead th {\n",
       "        text-align: right;\n",
       "    }\n",
       "</style>\n",
       "<table border=\"1\" class=\"dataframe\">\n",
       "  <thead>\n",
       "    <tr style=\"text-align: right;\">\n",
       "      <th></th>\n",
       "      <th>text</th>\n",
       "      <th>label</th>\n",
       "    </tr>\n",
       "  </thead>\n",
       "  <tbody>\n",
       "    <tr>\n",
       "      <th>0</th>\n",
       "      <td>জর্জ ডাকওয়ার্থ ল্যাঙ্কাশায়ারের ওয়ারিংটন এলা...</td>\n",
       "      <td>bengali</td>\n",
       "    </tr>\n",
       "    <tr>\n",
       "      <th>1</th>\n",
       "      <td>ক্রিকেট তারকা ছিলেন। ইংল্যান্ড ক্রিকেট দলের অ...</td>\n",
       "      <td>bengali</td>\n",
       "    </tr>\n",
       "    <tr>\n",
       "      <th>2</th>\n",
       "      <td>্ষকের দায়িত্ব পালন করতেন। ডানহাতে ব্যাটিং করা...</td>\n",
       "      <td>bengali</td>\n",
       "    </tr>\n",
       "    <tr>\n",
       "      <th>3</th>\n",
       "      <td>ডাকওয়ার্থ। ১৯২২ সালে ল্যাঙ্কাশায়ারে যোগ দেন...</td>\n",
       "      <td>bengali</td>\n",
       "    </tr>\n",
       "    <tr>\n",
       "      <th>4</th>\n",
       "      <td>াশাপাশি ৩০ স্ট্যাম্পিং নিজ নামের পাশে যুক্ত কর...</td>\n",
       "      <td>bengali</td>\n",
       "    </tr>\n",
       "  </tbody>\n",
       "</table>\n",
       "</div>"
      ],
      "text/plain": [
       "                                                text    label\n",
       "0  জর্জ ডাকওয়ার্থ ল্যাঙ্কাশায়ারের ওয়ারিংটন এলা...  bengali\n",
       "1   ক্রিকেট তারকা ছিলেন। ইংল্যান্ড ক্রিকেট দলের অ...  bengali\n",
       "2  ্ষকের দায়িত্ব পালন করতেন। ডানহাতে ব্যাটিং করা...  bengali\n",
       "3   ডাকওয়ার্থ। ১৯২২ সালে ল্যাঙ্কাশায়ারে যোগ দেন...  bengali\n",
       "4  াশাপাশি ৩০ স্ট্যাম্পিং নিজ নামের পাশে যুক্ত কর...  bengali"
      ]
     },
     "execution_count": 25,
     "metadata": {},
     "output_type": "execute_result"
    }
   ],
   "source": [
    "bengali.head()"
   ]
  },
  {
   "cell_type": "code",
   "execution_count": 10,
   "metadata": {},
   "outputs": [],
   "source": [
    "marathi = pd.read_csv('marathi.csv')"
   ]
  },
  {
   "cell_type": "code",
   "execution_count": 26,
   "metadata": {},
   "outputs": [
    {
     "data": {
      "text/html": [
       "<div>\n",
       "<style scoped>\n",
       "    .dataframe tbody tr th:only-of-type {\n",
       "        vertical-align: middle;\n",
       "    }\n",
       "\n",
       "    .dataframe tbody tr th {\n",
       "        vertical-align: top;\n",
       "    }\n",
       "\n",
       "    .dataframe thead th {\n",
       "        text-align: right;\n",
       "    }\n",
       "</style>\n",
       "<table border=\"1\" class=\"dataframe\">\n",
       "  <thead>\n",
       "    <tr style=\"text-align: right;\">\n",
       "      <th></th>\n",
       "      <th>text</th>\n",
       "      <th>label</th>\n",
       "    </tr>\n",
       "  </thead>\n",
       "  <tbody>\n",
       "    <tr>\n",
       "      <th>0</th>\n",
       "      <td>\\n\\nअंबिकाबाई राशिवडे मठाच्या मठपती '\\nखालील ल...</td>\n",
       "      <td>marathi</td>\n",
       "    </tr>\n",
       "    <tr>\n",
       "      <th>1</th>\n",
       "      <td>ानक हे जीन रॉडेनबेरी यांच्या स्टार ट्रेक या ना...</td>\n",
       "      <td>marathi</td>\n",
       "    </tr>\n",
       "    <tr>\n",
       "      <th>2</th>\n",
       "      <td>घटना, तसेच पात्रांच्या जन्म-मृत्यूंबाबतची माहि...</td>\n",
       "      <td>marathi</td>\n",
       "    </tr>\n",
       "    <tr>\n",
       "      <th>3</th>\n",
       "      <td>िक आहे. \\n\\n\\n\\nहाइके कॅमरलिंघ-ऑन्स हे शास्त्र...</td>\n",
       "      <td>marathi</td>\n",
       "    </tr>\n",
       "    <tr>\n",
       "      <th>4</th>\n",
       "      <td>· \\nॲ · एडवर्ड ॲपलटन\\nए · लियो एसाकी\\nऑ · फ्र...</td>\n",
       "      <td>marathi</td>\n",
       "    </tr>\n",
       "  </tbody>\n",
       "</table>\n",
       "</div>"
      ],
      "text/plain": [
       "                                                text    label\n",
       "0  \\n\\nअंबिकाबाई राशिवडे मठाच्या मठपती '\\nखालील ल...  marathi\n",
       "1  ानक हे जीन रॉडेनबेरी यांच्या स्टार ट्रेक या ना...  marathi\n",
       "2  घटना, तसेच पात्रांच्या जन्म-मृत्यूंबाबतची माहि...  marathi\n",
       "3  िक आहे. \\n\\n\\n\\nहाइके कॅमरलिंघ-ऑन्स हे शास्त्र...  marathi\n",
       "4   · \\nॲ · एडवर्ड ॲपलटन\\nए · लियो एसाकी\\nऑ · फ्र...  marathi"
      ]
     },
     "execution_count": 26,
     "metadata": {},
     "output_type": "execute_result"
    }
   ],
   "source": [
    "marathi.head()"
   ]
  },
  {
   "cell_type": "code",
   "execution_count": 12,
   "metadata": {},
   "outputs": [],
   "source": [
    "malyalam = pd.read_csv('malyalam.csv')"
   ]
  },
  {
   "cell_type": "code",
   "execution_count": 27,
   "metadata": {},
   "outputs": [
    {
     "data": {
      "text/html": [
       "<div>\n",
       "<style scoped>\n",
       "    .dataframe tbody tr th:only-of-type {\n",
       "        vertical-align: middle;\n",
       "    }\n",
       "\n",
       "    .dataframe tbody tr th {\n",
       "        vertical-align: top;\n",
       "    }\n",
       "\n",
       "    .dataframe thead th {\n",
       "        text-align: right;\n",
       "    }\n",
       "</style>\n",
       "<table border=\"1\" class=\"dataframe\">\n",
       "  <thead>\n",
       "    <tr style=\"text-align: right;\">\n",
       "      <th></th>\n",
       "      <th>text</th>\n",
       "      <th>label</th>\n",
       "    </tr>\n",
       "  </thead>\n",
       "  <tbody>\n",
       "    <tr>\n",
       "      <th>0</th>\n",
       "      <td>\\nഡീ‌എച്ച്‌സി‌പി · ഡി‌എൻ‌എസ് · എഫ്‌റ്റി‌പി · ഗ...</td>\n",
       "      <td>malyalam</td>\n",
       "    </tr>\n",
       "    <tr>\n",
       "      <th>1</th>\n",
       "      <td>ി സി പി ·എൻ‌എൻ‌ടിപി · എക്സ്‌എം‌പി‌പി · പോപ്പ്3...</td>\n",
       "      <td>malyalam</td>\n",
       "    </tr>\n",
       "    <tr>\n",
       "      <th>2</th>\n",
       "      <td>· ടെൽനെറ്റ് · ആർ‌പിസി · ആർ‌ടി‌പി‌സി · ആർ‌ടി‌എസ...</td>\n",
       "      <td>malyalam</td>\n",
       "    </tr>\n",
       "    <tr>\n",
       "      <th>3</th>\n",
       "      <td>ി · റിപ്പ് · ...\\nറ്റിസിപി · യൂ‌ഡി‌പി · ഡി‌സി‌...</td>\n",
       "      <td>malyalam</td>\n",
       "    </tr>\n",
       "    <tr>\n",
       "      <th>4</th>\n",
       "      <td>ഐ‌എസ്-ഐ‌എസ് · ബിജിപി · ഐപിസെക്ക് · എ‌ആർ‌പി · ...</td>\n",
       "      <td>malyalam</td>\n",
       "    </tr>\n",
       "  </tbody>\n",
       "</table>\n",
       "</div>"
      ],
      "text/plain": [
       "                                                text     label\n",
       "0  \\nഡീ‌എച്ച്‌സി‌പി · ഡി‌എൻ‌എസ് · എഫ്‌റ്റി‌പി · ഗ...  malyalam\n",
       "1  ി സി പി ·എൻ‌എൻ‌ടിപി · എക്സ്‌എം‌പി‌പി · പോപ്പ്3...  malyalam\n",
       "2  · ടെൽനെറ്റ് · ആർ‌പിസി · ആർ‌ടി‌പി‌സി · ആർ‌ടി‌എസ...  malyalam\n",
       "3  ി · റിപ്പ് · ...\\nറ്റിസിപി · യൂ‌ഡി‌പി · ഡി‌സി‌...  malyalam\n",
       "4   ഐ‌എസ്-ഐ‌എസ് · ബിജിപി · ഐപിസെക്ക് · എ‌ആർ‌പി · ...  malyalam"
      ]
     },
     "execution_count": 27,
     "metadata": {},
     "output_type": "execute_result"
    }
   ],
   "source": [
    "malyalam.head()"
   ]
  },
  {
   "cell_type": "code",
   "execution_count": 14,
   "metadata": {},
   "outputs": [],
   "source": [
    "odia = pd.read_csv('odia.csv')"
   ]
  },
  {
   "cell_type": "code",
   "execution_count": 28,
   "metadata": {},
   "outputs": [
    {
     "data": {
      "text/html": [
       "<div>\n",
       "<style scoped>\n",
       "    .dataframe tbody tr th:only-of-type {\n",
       "        vertical-align: middle;\n",
       "    }\n",
       "\n",
       "    .dataframe tbody tr th {\n",
       "        vertical-align: top;\n",
       "    }\n",
       "\n",
       "    .dataframe thead th {\n",
       "        text-align: right;\n",
       "    }\n",
       "</style>\n",
       "<table border=\"1\" class=\"dataframe\">\n",
       "  <thead>\n",
       "    <tr style=\"text-align: right;\">\n",
       "      <th></th>\n",
       "      <th>text</th>\n",
       "      <th>label</th>\n",
       "    </tr>\n",
       "  </thead>\n",
       "  <tbody>\n",
       "    <tr>\n",
       "      <th>0</th>\n",
       "      <td>ଜଠରାନ୍ତ୍ର ଛିଦ୍ର ନାମ ଦିଆଯାଏ ଯେତେବେଳେ ଜଠରାନ୍ତ୍ରର...</td>\n",
       "      <td>odia</td>\n",
       "    </tr>\n",
       "    <tr>\n",
       "      <th>1</th>\n",
       "      <td>ରଣା ଓ ଦରଜ ହୁଏ । ପାକସ୍ଥଳୀ ବା ଗ୍ରହଣୀରେ ଛିଦ୍ର ଥିଲ...</td>\n",
       "      <td>odia</td>\n",
       "    </tr>\n",
       "    <tr>\n",
       "      <th>2</th>\n",
       "      <td>ହାର, ଜ୍ୱର ଓ ଦ୍ୱିଧା ହୁଏ । \\nଏ ରୋଗର କାରଣ: ମୂନିଆ ...</td>\n",
       "      <td>odia</td>\n",
       "    </tr>\n",
       "    <tr>\n",
       "      <th>3</th>\n",
       "      <td>ାର୍ଥ ଖାଇଲେ, କୋଲୋନୋସ୍କୋପି ପ୍ରକ୍ରିୟାରେ, ଭଲଭ୍ୟୁଲସ...</td>\n",
       "      <td>odia</td>\n",
       "    </tr>\n",
       "    <tr>\n",
       "      <th>4</th>\n",
       "      <td>ସଂକ୍ରମଣ । ଅନ୍ତନଳୀରେ ଛିଦ୍ର ହେବା ଯୋଗୁ ଏଥିରେ ଥିବା...</td>\n",
       "      <td>odia</td>\n",
       "    </tr>\n",
       "  </tbody>\n",
       "</table>\n",
       "</div>"
      ],
      "text/plain": [
       "                                                text label\n",
       "0  ଜଠରାନ୍ତ୍ର ଛିଦ୍ର ନାମ ଦିଆଯାଏ ଯେତେବେଳେ ଜଠରାନ୍ତ୍ରର...  odia\n",
       "1  ରଣା ଓ ଦରଜ ହୁଏ । ପାକସ୍ଥଳୀ ବା ଗ୍ରହଣୀରେ ଛିଦ୍ର ଥିଲ...  odia\n",
       "2  ହାର, ଜ୍ୱର ଓ ଦ୍ୱିଧା ହୁଏ । \\nଏ ରୋଗର କାରଣ: ମୂନିଆ ...  odia\n",
       "3  ାର୍ଥ ଖାଇଲେ, କୋଲୋନୋସ୍କୋପି ପ୍ରକ୍ରିୟାରେ, ଭଲଭ୍ୟୁଲସ...  odia\n",
       "4  ସଂକ୍ରମଣ । ଅନ୍ତନଳୀରେ ଛିଦ୍ର ହେବା ଯୋଗୁ ଏଥିରେ ଥିବା...  odia"
      ]
     },
     "execution_count": 28,
     "metadata": {},
     "output_type": "execute_result"
    }
   ],
   "source": [
    "odia.head()"
   ]
  },
  {
   "cell_type": "code",
   "execution_count": 16,
   "metadata": {},
   "outputs": [],
   "source": [
    "gujarati = pd.read_csv('gujarati.csv')"
   ]
  },
  {
   "cell_type": "code",
   "execution_count": 29,
   "metadata": {},
   "outputs": [
    {
     "data": {
      "text/html": [
       "<div>\n",
       "<style scoped>\n",
       "    .dataframe tbody tr th:only-of-type {\n",
       "        vertical-align: middle;\n",
       "    }\n",
       "\n",
       "    .dataframe tbody tr th {\n",
       "        vertical-align: top;\n",
       "    }\n",
       "\n",
       "    .dataframe thead th {\n",
       "        text-align: right;\n",
       "    }\n",
       "</style>\n",
       "<table border=\"1\" class=\"dataframe\">\n",
       "  <thead>\n",
       "    <tr style=\"text-align: right;\">\n",
       "      <th></th>\n",
       "      <th>text</th>\n",
       "      <th>label</th>\n",
       "    </tr>\n",
       "  </thead>\n",
       "  <tbody>\n",
       "    <tr>\n",
       "      <th>0</th>\n",
       "      <td>ગુજરાત અને ભારતમાં સ્થાન\\nતરેડ ભારત દેશના પશ્ચ...</td>\n",
       "      <td>gujarati</td>\n",
       "    </tr>\n",
       "    <tr>\n",
       "      <th>1</th>\n",
       "      <td>જિલ્લામાં આવેલા કુલ ૧૧ તાલુકાઓ પૈકીના એક એવા ...</td>\n",
       "      <td>gujarati</td>\n",
       "    </tr>\n",
       "    <tr>\n",
       "      <th>2</th>\n",
       "      <td>ત્વે નાળીળેર, ઘઉં, જીરુ, મગફળી, તલ, બાજરી, ચણા...</td>\n",
       "      <td>gujarati</td>\n",
       "    </tr>\n",
       "    <tr>\n",
       "      <th>3</th>\n",
       "      <td>આવે છે. આ ગામમાં પ્રાથમિક શાળા, પંચાયતઘર, આંગ...</td>\n",
       "      <td>gujarati</td>\n",
       "    </tr>\n",
       "    <tr>\n",
       "      <th>4</th>\n",
       "      <td>િચેરી ભારત દેશનો એક કેન્દ્રશાસિત સંઘપ્રદેશ છે....</td>\n",
       "      <td>gujarati</td>\n",
       "    </tr>\n",
       "  </tbody>\n",
       "</table>\n",
       "</div>"
      ],
      "text/plain": [
       "                                                text     label\n",
       "0  ગુજરાત અને ભારતમાં સ્થાન\\nતરેડ ભારત દેશના પશ્ચ...  gujarati\n",
       "1   જિલ્લામાં આવેલા કુલ ૧૧ તાલુકાઓ પૈકીના એક એવા ...  gujarati\n",
       "2  ત્વે નાળીળેર, ઘઉં, જીરુ, મગફળી, તલ, બાજરી, ચણા...  gujarati\n",
       "3   આવે છે. આ ગામમાં પ્રાથમિક શાળા, પંચાયતઘર, આંગ...  gujarati\n",
       "4  િચેરી ભારત દેશનો એક કેન્દ્રશાસિત સંઘપ્રદેશ છે....  gujarati"
      ]
     },
     "execution_count": 29,
     "metadata": {},
     "output_type": "execute_result"
    }
   ],
   "source": [
    "gujarati.head()"
   ]
  },
  {
   "cell_type": "code",
   "execution_count": 18,
   "metadata": {},
   "outputs": [],
   "source": [
    "kannada = pd.read_csv('kannada.csv')"
   ]
  },
  {
   "cell_type": "code",
   "execution_count": 30,
   "metadata": {},
   "outputs": [
    {
     "data": {
      "text/html": [
       "<div>\n",
       "<style scoped>\n",
       "    .dataframe tbody tr th:only-of-type {\n",
       "        vertical-align: middle;\n",
       "    }\n",
       "\n",
       "    .dataframe tbody tr th {\n",
       "        vertical-align: top;\n",
       "    }\n",
       "\n",
       "    .dataframe thead th {\n",
       "        text-align: right;\n",
       "    }\n",
       "</style>\n",
       "<table border=\"1\" class=\"dataframe\">\n",
       "  <thead>\n",
       "    <tr style=\"text-align: right;\">\n",
       "      <th></th>\n",
       "      <th>text</th>\n",
       "      <th>label</th>\n",
       "    </tr>\n",
       "  </thead>\n",
       "  <tbody>\n",
       "    <tr>\n",
       "      <th>0</th>\n",
       "      <td>ಯಾರು ಹಿತವರು, ಪಿ.ಎಸ್.ಮೂರ್ತಿ ನಿರ್ದೇಶನ ಮತ್ತು ಲಕ್ಷ...</td>\n",
       "      <td>kannada</td>\n",
       "    </tr>\n",
       "    <tr>\n",
       "      <th>1</th>\n",
       "      <td>ನೀಶ್ ನಿರ್ಮಾಪಣ ಮಾಡಿರುವ ೧೯೭೬ರ ಕನ್ನಡ ಚಲನಚ್ರಿತ್ರ. ...</td>\n",
       "      <td>kannada</td>\n",
       "    </tr>\n",
       "    <tr>\n",
       "      <th>2</th>\n",
       "      <td>ದ ವಿಷಸರ್ಪಗಳಲ್ಲಿ ಒಂದು ಜಾತಿ . ಇದಕ್ಕೆ ಬಂಗರಸ್ ಎಂಬ ...</td>\n",
       "      <td>kannada</td>\n",
       "    </tr>\n",
       "    <tr>\n",
       "      <th>3</th>\n",
       "      <td>ಈ ಜಾತಿಯಲ್ಲಿ ಸುಮಾರು 12 ಪ್ರಭೇದಗಳಿವೆ. \\nಬಂಗರಸ್ ಸಿ...</td>\n",
       "      <td>kannada</td>\n",
       "    </tr>\n",
       "    <tr>\n",
       "      <th>4</th>\n",
       "      <td>ಎಲ್ಲೆಡೆ ಸಾಮಾನ್ಯವಾಗಿ ಕಂಡುಬರುತ್ತದೆ. ಸುಮಾರು 2 ಮೀ ...</td>\n",
       "      <td>kannada</td>\n",
       "    </tr>\n",
       "  </tbody>\n",
       "</table>\n",
       "</div>"
      ],
      "text/plain": [
       "                                                text    label\n",
       "0  ಯಾರು ಹಿತವರು, ಪಿ.ಎಸ್.ಮೂರ್ತಿ ನಿರ್ದೇಶನ ಮತ್ತು ಲಕ್ಷ...  kannada\n",
       "1  ನೀಶ್ ನಿರ್ಮಾಪಣ ಮಾಡಿರುವ ೧೯೭೬ರ ಕನ್ನಡ ಚಲನಚ್ರಿತ್ರ. ...  kannada\n",
       "2  ದ ವಿಷಸರ್ಪಗಳಲ್ಲಿ ಒಂದು ಜಾತಿ . ಇದಕ್ಕೆ ಬಂಗರಸ್ ಎಂಬ ...  kannada\n",
       "3  ಈ ಜಾತಿಯಲ್ಲಿ ಸುಮಾರು 12 ಪ್ರಭೇದಗಳಿವೆ. \\nಬಂಗರಸ್ ಸಿ...  kannada\n",
       "4  ಎಲ್ಲೆಡೆ ಸಾಮಾನ್ಯವಾಗಿ ಕಂಡುಬರುತ್ತದೆ. ಸುಮಾರು 2 ಮೀ ...  kannada"
      ]
     },
     "execution_count": 30,
     "metadata": {},
     "output_type": "execute_result"
    }
   ],
   "source": [
    "kannada.head()"
   ]
  },
  {
   "cell_type": "code",
   "execution_count": 20,
   "metadata": {},
   "outputs": [],
   "source": [
    "nepali = pd.read_csv('nepali.csv')"
   ]
  },
  {
   "cell_type": "code",
   "execution_count": 31,
   "metadata": {},
   "outputs": [
    {
     "data": {
      "text/html": [
       "<div>\n",
       "<style scoped>\n",
       "    .dataframe tbody tr th:only-of-type {\n",
       "        vertical-align: middle;\n",
       "    }\n",
       "\n",
       "    .dataframe tbody tr th {\n",
       "        vertical-align: top;\n",
       "    }\n",
       "\n",
       "    .dataframe thead th {\n",
       "        text-align: right;\n",
       "    }\n",
       "</style>\n",
       "<table border=\"1\" class=\"dataframe\">\n",
       "  <thead>\n",
       "    <tr style=\"text-align: right;\">\n",
       "      <th></th>\n",
       "      <th>text</th>\n",
       "      <th>label</th>\n",
       "    </tr>\n",
       "  </thead>\n",
       "  <tbody>\n",
       "    <tr>\n",
       "      <th>0</th>\n",
       "      <td>Aftermath, Shady, G-Unit, Interscope \\nकर्टिस ...</td>\n",
       "      <td>nepali</td>\n",
       "    </tr>\n",
       "    <tr>\n",
       "      <th>1</th>\n",
       "      <td>0 सेन्टको नामले चर्चित उनी अमेरिकी व्यापारी, अ...</td>\n",
       "      <td>nepali</td>\n",
       "    </tr>\n",
       "    <tr>\n",
       "      <th>2</th>\n",
       "      <td>पनिषद कृष्ण यजुर्वेदीय शाखा को अन्तर्गत एक उपन...</td>\n",
       "      <td>nepali</td>\n",
       "    </tr>\n",
       "    <tr>\n",
       "      <th>3</th>\n",
       "      <td>ऋषिहरु हुन् भन्ने मानिन्छ तर मुख्यत वेद व्यास...</td>\n",
       "      <td>nepali</td>\n",
       "    </tr>\n",
       "    <tr>\n",
       "      <th>4</th>\n",
       "      <td>जिल्लामा अवस्थित एक गाउँ विकास समिति हो।\\n\\nए...</td>\n",
       "      <td>nepali</td>\n",
       "    </tr>\n",
       "  </tbody>\n",
       "</table>\n",
       "</div>"
      ],
      "text/plain": [
       "                                                text   label\n",
       "0  Aftermath, Shady, G-Unit, Interscope \\nकर्टिस ...  nepali\n",
       "1  0 सेन्टको नामले चर्चित उनी अमेरिकी व्यापारी, अ...  nepali\n",
       "2  पनिषद कृष्ण यजुर्वेदीय शाखा को अन्तर्गत एक उपन...  nepali\n",
       "3   ऋषिहरु हुन् भन्ने मानिन्छ तर मुख्यत वेद व्यास...  nepali\n",
       "4   जिल्लामा अवस्थित एक गाउँ विकास समिति हो।\\n\\nए...  nepali"
      ]
     },
     "execution_count": 31,
     "metadata": {},
     "output_type": "execute_result"
    }
   ],
   "source": [
    "nepali.head()"
   ]
  },
  {
   "cell_type": "code",
   "execution_count": 32,
   "metadata": {},
   "outputs": [],
   "source": [
    "df = pd.concat([hindi, panjabi, sanskrit, marathi, malyalam, gujarati, kannada, nepali, bengali, odia], axis=0)"
   ]
  },
  {
   "cell_type": "code",
   "execution_count": 33,
   "metadata": {},
   "outputs": [
    {
     "data": {
      "text/plain": [
       "(1777563, 2)"
      ]
     },
     "execution_count": 33,
     "metadata": {},
     "output_type": "execute_result"
    }
   ],
   "source": [
    "df.shape"
   ]
  },
  {
   "cell_type": "code",
   "execution_count": 34,
   "metadata": {},
   "outputs": [
    {
     "data": {
      "text/html": [
       "<div>\n",
       "<style scoped>\n",
       "    .dataframe tbody tr th:only-of-type {\n",
       "        vertical-align: middle;\n",
       "    }\n",
       "\n",
       "    .dataframe tbody tr th {\n",
       "        vertical-align: top;\n",
       "    }\n",
       "\n",
       "    .dataframe thead th {\n",
       "        text-align: right;\n",
       "    }\n",
       "</style>\n",
       "<table border=\"1\" class=\"dataframe\">\n",
       "  <thead>\n",
       "    <tr style=\"text-align: right;\">\n",
       "      <th></th>\n",
       "      <th>text</th>\n",
       "      <th>label</th>\n",
       "    </tr>\n",
       "  </thead>\n",
       "  <tbody>\n",
       "    <tr>\n",
       "      <th>0</th>\n",
       "      <td>तिरिच मीर पाकिस्तान के ख़ैबर-पख़्तूनख़्वा प्रा...</td>\n",
       "      <td>hindi</td>\n",
       "    </tr>\n",
       "    <tr>\n",
       "      <th>1</th>\n",
       "      <td>ऊँचा यह पर्वत हिमालय-काराकोरम श्रेणी के बाहर ...</td>\n",
       "      <td>hindi</td>\n",
       "    </tr>\n",
       "    <tr>\n",
       "      <th>2</th>\n",
       "      <td>्राल शहर से तिरिच मीर दिखता ही है लेकिन यह पहा...</td>\n",
       "      <td>hindi</td>\n",
       "    </tr>\n",
       "    <tr>\n",
       "      <th>3</th>\n",
       "      <td>्तान के कुछ सीमाई इलाक़ों से भी देखा जा सकता ह...</td>\n",
       "      <td>hindi</td>\n",
       "    </tr>\n",
       "    <tr>\n",
       "      <th>4</th>\n",
       "      <td>या 'मालिक' होता है। 'तिरिच मीर' के पूरे नाम क...</td>\n",
       "      <td>hindi</td>\n",
       "    </tr>\n",
       "  </tbody>\n",
       "</table>\n",
       "</div>"
      ],
      "text/plain": [
       "                                                text  label\n",
       "0  तिरिच मीर पाकिस्तान के ख़ैबर-पख़्तूनख़्वा प्रा...  hindi\n",
       "1   ऊँचा यह पर्वत हिमालय-काराकोरम श्रेणी के बाहर ...  hindi\n",
       "2  ्राल शहर से तिरिच मीर दिखता ही है लेकिन यह पहा...  hindi\n",
       "3  ्तान के कुछ सीमाई इलाक़ों से भी देखा जा सकता ह...  hindi\n",
       "4   या 'मालिक' होता है। 'तिरिच मीर' के पूरे नाम क...  hindi"
      ]
     },
     "execution_count": 34,
     "metadata": {},
     "output_type": "execute_result"
    }
   ],
   "source": [
    "df.head()"
   ]
  },
  {
   "cell_type": "code",
   "execution_count": 35,
   "metadata": {},
   "outputs": [
    {
     "data": {
      "text/plain": [
       "array(['hindi', 'panjabi', 'sanskrit', 'marathi', 'malyalam', 'gujarati',\n",
       "       'kannada', 'nepali', 'bengali', 'odia'], dtype=object)"
      ]
     },
     "execution_count": 35,
     "metadata": {},
     "output_type": "execute_result"
    }
   ],
   "source": [
    "df['label'].unique()"
   ]
  },
  {
   "cell_type": "code",
   "execution_count": 36,
   "metadata": {},
   "outputs": [],
   "source": [
    "df.to_csv('all_languages.csv', index=False)"
   ]
  },
  {
   "cell_type": "code",
   "execution_count": null,
   "metadata": {},
   "outputs": [],
   "source": []
  }
 ],
 "metadata": {
  "kernelspec": {
   "display_name": "Python 3",
   "language": "python",
   "name": "python3"
  },
  "language_info": {
   "codemirror_mode": {
    "name": "ipython",
    "version": 3
   },
   "file_extension": ".py",
   "mimetype": "text/x-python",
   "name": "python",
   "nbconvert_exporter": "python",
   "pygments_lexer": "ipython3",
   "version": "3.6.8"
  }
 },
 "nbformat": 4,
 "nbformat_minor": 2
}
