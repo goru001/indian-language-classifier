{
 "cells": [
  {
   "cell_type": "code",
   "execution_count": 1,
   "metadata": {},
   "outputs": [],
   "source": [
    "import pandas as pd\n",
    "from random import randint"
   ]
  },
  {
   "cell_type": "code",
   "execution_count": 2,
   "metadata": {},
   "outputs": [],
   "source": [
    "with open('odia.txt', 'r') as f:\n",
    "    text = f.read()"
   ]
  },
  {
   "cell_type": "code",
   "execution_count": 3,
   "metadata": {},
   "outputs": [
    {
     "data": {
      "text/plain": [
       "22508307"
      ]
     },
     "execution_count": 3,
     "metadata": {},
     "output_type": "execute_result"
    }
   ],
   "source": [
    "len(text)"
   ]
  },
  {
   "cell_type": "code",
   "execution_count": 4,
   "metadata": {},
   "outputs": [],
   "source": [
    "arr = []\n",
    "l = randint(50,200)\n",
    "count = 0\n",
    "while l <= len(text):\n",
    "    arr.append(text[:l])\n",
    "    text = text[l:]\n",
    "    l = randint(50,200)"
   ]
  },
  {
   "cell_type": "code",
   "execution_count": 5,
   "metadata": {},
   "outputs": [
    {
     "data": {
      "text/plain": [
       "180217"
      ]
     },
     "execution_count": 5,
     "metadata": {},
     "output_type": "execute_result"
    }
   ],
   "source": [
    "len(arr)"
   ]
  },
  {
   "cell_type": "code",
   "execution_count": 6,
   "metadata": {},
   "outputs": [],
   "source": [
    "import pickle\n",
    "with open('odia', 'wb') as f:\n",
    "    pickle.dump(arr, f)"
   ]
  },
  {
   "cell_type": "code",
   "execution_count": 7,
   "metadata": {},
   "outputs": [],
   "source": [
    "labels = ['odia']*len(arr)"
   ]
  },
  {
   "cell_type": "code",
   "execution_count": 8,
   "metadata": {},
   "outputs": [],
   "source": [
    "upto = 200000\n",
    "df = pd.DataFrame({'text':arr[:upto], 'label':labels[:upto]})"
   ]
  },
  {
   "cell_type": "code",
   "execution_count": 9,
   "metadata": {},
   "outputs": [
    {
     "data": {
      "text/plain": [
       "(180217, 2)"
      ]
     },
     "execution_count": 9,
     "metadata": {},
     "output_type": "execute_result"
    }
   ],
   "source": [
    "df.shape"
   ]
  },
  {
   "cell_type": "code",
   "execution_count": 10,
   "metadata": {},
   "outputs": [
    {
     "data": {
      "text/html": [
       "<div>\n",
       "<style scoped>\n",
       "    .dataframe tbody tr th:only-of-type {\n",
       "        vertical-align: middle;\n",
       "    }\n",
       "\n",
       "    .dataframe tbody tr th {\n",
       "        vertical-align: top;\n",
       "    }\n",
       "\n",
       "    .dataframe thead th {\n",
       "        text-align: right;\n",
       "    }\n",
       "</style>\n",
       "<table border=\"1\" class=\"dataframe\">\n",
       "  <thead>\n",
       "    <tr style=\"text-align: right;\">\n",
       "      <th></th>\n",
       "      <th>text</th>\n",
       "      <th>label</th>\n",
       "    </tr>\n",
       "  </thead>\n",
       "  <tbody>\n",
       "    <tr>\n",
       "      <th>0</th>\n",
       "      <td>ଜଠରାନ୍ତ୍ର ଛିଦ୍ର ନାମ ଦିଆଯାଏ ଯେତେବେଳେ ଜଠରାନ୍ତ୍ରର...</td>\n",
       "      <td>odia</td>\n",
       "    </tr>\n",
       "    <tr>\n",
       "      <th>1</th>\n",
       "      <td>ରଣା ଓ ଦରଜ ହୁଏ । ପାକସ୍ଥଳୀ ବା ଗ୍ରହଣୀରେ ଛିଦ୍ର ଥିଲ...</td>\n",
       "      <td>odia</td>\n",
       "    </tr>\n",
       "    <tr>\n",
       "      <th>2</th>\n",
       "      <td>ହାର, ଜ୍ୱର ଓ ଦ୍ୱିଧା ହୁଏ । \\nଏ ରୋଗର କାରଣ: ମୂନିଆ ...</td>\n",
       "      <td>odia</td>\n",
       "    </tr>\n",
       "    <tr>\n",
       "      <th>3</th>\n",
       "      <td>ାର୍ଥ ଖାଇଲେ, କୋଲୋନୋସ୍କୋପି ପ୍ରକ୍ରିୟାରେ, ଭଲଭ୍ୟୁଲସ...</td>\n",
       "      <td>odia</td>\n",
       "    </tr>\n",
       "    <tr>\n",
       "      <th>4</th>\n",
       "      <td>ସଂକ୍ରମଣ । ଅନ୍ତନଳୀରେ ଛିଦ୍ର ହେବା ଯୋଗୁ ଏଥିରେ ଥିବା...</td>\n",
       "      <td>odia</td>\n",
       "    </tr>\n",
       "  </tbody>\n",
       "</table>\n",
       "</div>"
      ],
      "text/plain": [
       "                                                text label\n",
       "0  ଜଠରାନ୍ତ୍ର ଛିଦ୍ର ନାମ ଦିଆଯାଏ ଯେତେବେଳେ ଜଠରାନ୍ତ୍ରର...  odia\n",
       "1  ରଣା ଓ ଦରଜ ହୁଏ । ପାକସ୍ଥଳୀ ବା ଗ୍ରହଣୀରେ ଛିଦ୍ର ଥିଲ...  odia\n",
       "2  ହାର, ଜ୍ୱର ଓ ଦ୍ୱିଧା ହୁଏ । \\nଏ ରୋଗର କାରଣ: ମୂନିଆ ...  odia\n",
       "3  ାର୍ଥ ଖାଇଲେ, କୋଲୋନୋସ୍କୋପି ପ୍ରକ୍ରିୟାରେ, ଭଲଭ୍ୟୁଲସ...  odia\n",
       "4  ସଂକ୍ରମଣ । ଅନ୍ତନଳୀରେ ଛିଦ୍ର ହେବା ଯୋଗୁ ଏଥିରେ ଥିବା...  odia"
      ]
     },
     "execution_count": 10,
     "metadata": {},
     "output_type": "execute_result"
    }
   ],
   "source": [
    "df.head()"
   ]
  },
  {
   "cell_type": "code",
   "execution_count": 11,
   "metadata": {},
   "outputs": [],
   "source": [
    "df.to_csv('odia.csv', index=False)"
   ]
  },
  {
   "cell_type": "code",
   "execution_count": null,
   "metadata": {},
   "outputs": [],
   "source": []
  }
 ],
 "metadata": {
  "kernelspec": {
   "display_name": "Python 3",
   "language": "python",
   "name": "python3"
  },
  "language_info": {
   "codemirror_mode": {
    "name": "ipython",
    "version": 3
   },
   "file_extension": ".py",
   "mimetype": "text/x-python",
   "name": "python",
   "nbconvert_exporter": "python",
   "pygments_lexer": "ipython3",
   "version": "3.6.8"
  }
 },
 "nbformat": 4,
 "nbformat_minor": 2
}
