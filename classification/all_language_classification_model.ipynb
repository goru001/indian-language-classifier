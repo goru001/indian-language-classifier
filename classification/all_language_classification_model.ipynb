{
 "cells": [
  {
   "cell_type": "code",
   "execution_count": 1,
   "metadata": {},
   "outputs": [],
   "source": [
    "from fastai.text import *\n",
    "import numpy as np\n",
    "from sklearn.model_selection import train_test_split\n",
    "import pickle\n",
    "import sentencepiece as spm\n",
    "import re\n",
    "import pdb"
   ]
  },
  {
   "cell_type": "code",
   "execution_count": 2,
   "metadata": {},
   "outputs": [
    {
     "data": {
      "text/plain": [
       "('1.0.50.post1', '1.0.1.post2')"
      ]
     },
     "execution_count": 2,
     "metadata": {},
     "output_type": "execute_result"
    }
   ],
   "source": [
    "import fastai, torch\n",
    "fastai.__version__ , torch.__version__"
   ]
  },
  {
   "cell_type": "code",
   "execution_count": 3,
   "metadata": {},
   "outputs": [],
   "source": [
    "torch.cuda.set_device(0)"
   ]
  },
  {
   "cell_type": "code",
   "execution_count": 4,
   "metadata": {},
   "outputs": [
    {
     "name": "stdout",
     "output_type": "stream",
     "text": [
      "/home/gaurav/PycharmProjects/language-classifier/classification\r\n"
     ]
    }
   ],
   "source": [
    "!pwd"
   ]
  },
  {
   "cell_type": "code",
   "execution_count": 5,
   "metadata": {},
   "outputs": [],
   "source": [
    "path = Path('/home/gaurav/PycharmProjects/language-classifier/classification')"
   ]
  },
  {
   "cell_type": "code",
   "execution_count": 6,
   "metadata": {},
   "outputs": [
    {
     "name": "stdout",
     "output_type": "stream",
     "text": [
      "all_language_classification_model.ipynb  data_lm_export.pkl  models\r\n",
      "all_languages.csv\t\t\t data_save.pkl\r\n"
     ]
    }
   ],
   "source": [
    "!ls"
   ]
  },
  {
   "cell_type": "code",
   "execution_count": 7,
   "metadata": {},
   "outputs": [
    {
     "data": {
      "text/html": [
       "<div>\n",
       "<style scoped>\n",
       "    .dataframe tbody tr th:only-of-type {\n",
       "        vertical-align: middle;\n",
       "    }\n",
       "\n",
       "    .dataframe tbody tr th {\n",
       "        vertical-align: top;\n",
       "    }\n",
       "\n",
       "    .dataframe thead th {\n",
       "        text-align: right;\n",
       "    }\n",
       "</style>\n",
       "<table border=\"1\" class=\"dataframe\">\n",
       "  <thead>\n",
       "    <tr style=\"text-align: right;\">\n",
       "      <th></th>\n",
       "      <th>text</th>\n",
       "      <th>label</th>\n",
       "    </tr>\n",
       "  </thead>\n",
       "  <tbody>\n",
       "    <tr>\n",
       "      <th>1777558</th>\n",
       "      <td>ଉଚ୍ଚତାରେ ରହିଛି ।\\n୨୦୦୧ ମସିହାର ଭାରତୀୟ ଜନଗଣନା ଅନ...</td>\n",
       "      <td>odia</td>\n",
       "    </tr>\n",
       "    <tr>\n",
       "      <th>1777559</th>\n",
       "      <td>ନସଂଖ୍ୟା ୪୨୫୭୪ ଅଟେ । ସେଥି ମଧ୍ୟରୁ ୫୨.୯୧% ଜଣ ପରୁଷ...</td>\n",
       "      <td>odia</td>\n",
       "    </tr>\n",
       "    <tr>\n",
       "      <th>1777560</th>\n",
       "      <td>ଁ ଦା‌‌ଭାଡେର ସାକ୍ଷରତା ହାର ୭୯.୩୯% ଅଟେ । ଏହା ଜାତୀ...</td>\n",
       "      <td>odia</td>\n",
       "    </tr>\n",
       "    <tr>\n",
       "      <th>1777561</th>\n",
       "      <td>ର ଠାରୁ ୧୪.୫୫% ପ୍ରତିଶତ କମ ଅଟେ । ସେଥିରୁ ୪୪.୧୫% ପ...</td>\n",
       "      <td>odia</td>\n",
       "    </tr>\n",
       "    <tr>\n",
       "      <th>1777562</th>\n",
       "      <td>ତି । ୧୧.୨୯% ଲୋକ ସେଠାରେ ୬ ବର୍ଷ ବୟସରୁ କମ ବୟସ୍କ ଅ...</td>\n",
       "      <td>odia</td>\n",
       "    </tr>\n",
       "  </tbody>\n",
       "</table>\n",
       "</div>"
      ],
      "text/plain": [
       "                                                      text label\n",
       "1777558  ଉଚ୍ଚତାରେ ରହିଛି ।\\n୨୦୦୧ ମସିହାର ଭାରତୀୟ ଜନଗଣନା ଅନ...  odia\n",
       "1777559  ନସଂଖ୍ୟା ୪୨୫୭୪ ଅଟେ । ସେଥି ମଧ୍ୟରୁ ୫୨.୯୧% ଜଣ ପରୁଷ...  odia\n",
       "1777560  ଁ ଦା‌‌ଭାଡେର ସାକ୍ଷରତା ହାର ୭୯.୩୯% ଅଟେ । ଏହା ଜାତୀ...  odia\n",
       "1777561  ର ଠାରୁ ୧୪.୫୫% ପ୍ରତିଶତ କମ ଅଟେ । ସେଥିରୁ ୪୪.୧୫% ପ...  odia\n",
       "1777562  ତି । ୧୧.୨୯% ଲୋକ ସେଠାରେ ୬ ବର୍ଷ ବୟସରୁ କମ ବୟସ୍କ ଅ...  odia"
      ]
     },
     "execution_count": 7,
     "metadata": {},
     "output_type": "execute_result"
    }
   ],
   "source": [
    "df = pd.read_csv(path/'all_languages.csv')\n",
    "df.tail()"
   ]
  },
  {
   "cell_type": "code",
   "execution_count": 8,
   "metadata": {},
   "outputs": [
    {
     "data": {
      "text/plain": [
       "array(['hindi', 'panjabi', 'sanskrit', 'marathi', 'malyalam', 'gujarati', 'kannada', 'nepali', 'bengali', 'odia'],\n",
       "      dtype=object)"
      ]
     },
     "execution_count": 8,
     "metadata": {},
     "output_type": "execute_result"
    }
   ],
   "source": [
    "df['label'].unique()"
   ]
  },
  {
   "cell_type": "code",
   "execution_count": 9,
   "metadata": {},
   "outputs": [
    {
     "data": {
      "text/plain": [
       "(1777563, 2)"
      ]
     },
     "execution_count": 9,
     "metadata": {},
     "output_type": "execute_result"
    }
   ],
   "source": [
    "df.shape"
   ]
  },
  {
   "cell_type": "code",
   "execution_count": 10,
   "metadata": {},
   "outputs": [
    {
     "data": {
      "text/plain": [
       "(0, 2)"
      ]
     },
     "execution_count": 10,
     "metadata": {},
     "output_type": "execute_result"
    }
   ],
   "source": [
    "df[df['text'].isnull()].shape"
   ]
  },
  {
   "cell_type": "code",
   "execution_count": 11,
   "metadata": {},
   "outputs": [],
   "source": [
    "label_cols = list(range(1,df.shape[1]))"
   ]
  },
  {
   "cell_type": "code",
   "execution_count": 12,
   "metadata": {},
   "outputs": [
    {
     "name": "stdout",
     "output_type": "stream",
     "text": [
      "[1]\n"
     ]
    }
   ],
   "source": [
    "print(label_cols)"
   ]
  },
  {
   "cell_type": "code",
   "execution_count": 13,
   "metadata": {},
   "outputs": [],
   "source": [
    "id_to_col = list(df.columns)"
   ]
  },
  {
   "cell_type": "code",
   "execution_count": 14,
   "metadata": {},
   "outputs": [],
   "source": [
    "col_to_id = {}\n",
    "for i, col in enumerate(id_to_col):\n",
    "    col_to_id[col] = i"
   ]
  },
  {
   "cell_type": "code",
   "execution_count": 15,
   "metadata": {},
   "outputs": [],
   "source": [
    "class AllLanguageTokenizer(BaseTokenizer):\n",
    "    def __init__(self, lang:str):\n",
    "        self.lang = lang\n",
    "        self.sp = spm.SentencePieceProcessor()\n",
    "        self.sp.Load(str(path/\"../tokenizer/all_language.model\"))\n",
    "        \n",
    "    def tokenizer(self, t:str) -> List[str]:\n",
    "        return self.sp.EncodeAsPieces(t)"
   ]
  },
  {
   "cell_type": "code",
   "execution_count": 16,
   "metadata": {},
   "outputs": [],
   "source": [
    "sp = spm.SentencePieceProcessor()\n",
    "sp.Load(str(path/\"../tokenizer/all_language.model\"))\n",
    "itos = [sp.IdToPiece(int(i)) for i in range(90000)]"
   ]
  },
  {
   "cell_type": "code",
   "execution_count": 17,
   "metadata": {},
   "outputs": [],
   "source": [
    "# 90,000 is the vocab size that we chose in sentencepiece\n",
    "all_language_vocab = Vocab(itos)"
   ]
  },
  {
   "cell_type": "code",
   "execution_count": 18,
   "metadata": {},
   "outputs": [],
   "source": [
    "tokenizer = Tokenizer(tok_func=AllLanguageTokenizer, lang='all')"
   ]
  },
  {
   "cell_type": "code",
   "execution_count": 19,
   "metadata": {},
   "outputs": [
    {
     "data": {
      "text/plain": [
       "['xxunk',\n",
       " 'xxpad',\n",
       " 'xxbos',\n",
       " 'xxeos',\n",
       " 'xxfld',\n",
       " 'xxmaj',\n",
       " 'xxup',\n",
       " 'xxrep',\n",
       " 'xxwrep']"
      ]
     },
     "execution_count": 19,
     "metadata": {},
     "output_type": "execute_result"
    }
   ],
   "source": [
    "tokenizer.special_cases"
   ]
  },
  {
   "cell_type": "code",
   "execution_count": 20,
   "metadata": {},
   "outputs": [],
   "source": [
    "data_lm = TextLMDataBunch.from_csv(path=path, csv_name='all_languages.csv', text_cols=[0], label_cols=label_cols, tokenizer=tokenizer, vocab=all_language_vocab)"
   ]
  },
  {
   "cell_type": "code",
   "execution_count": 21,
   "metadata": {},
   "outputs": [],
   "source": [
    "data_lm.save('data_lm_export.pkl')"
   ]
  },
  {
   "cell_type": "code",
   "execution_count": 21,
   "metadata": {},
   "outputs": [],
   "source": [
    "bs=64"
   ]
  },
  {
   "cell_type": "code",
   "execution_count": 22,
   "metadata": {},
   "outputs": [
    {
     "data": {
      "text/plain": [
       "64"
      ]
     },
     "execution_count": 22,
     "metadata": {},
     "output_type": "execute_result"
    }
   ],
   "source": [
    "data_lm.batch_size"
   ]
  },
  {
   "cell_type": "code",
   "execution_count": 24,
   "metadata": {},
   "outputs": [
    {
     "data": {
      "text/html": [
       "<table border=\"1\" class=\"dataframe\">\n",
       "  <thead>\n",
       "    <tr style=\"text-align: right;\">\n",
       "      <th>idx</th>\n",
       "      <th>text</th>\n",
       "    </tr>\n",
       "  </thead>\n",
       "  <tbody>\n",
       "    <tr>\n",
       "      <td>0</td>\n",
       "      <td>ं ▁ षष्टि का दि ▁। ▁एतत् सर्व ं ▁ त्वा ष्ट्र े ▁चित्र ा याम् ▁। ▁चित्र ा नक्षत्रे ▁शान्ति कर्म , ▁x x bo s ▁যা ন্ড ▁দলে ▁অনেক ▁প্রতিভা ধর ▁ব্যাটসম্যান ▁থাকায় ▁দলে ▁অবস্থান ▁নিশ্চিত করণ ে ▁তাঁকে ▁বোলার ▁হতে ▁হয়েছিল । ▁বোলার ▁হিসেবে ▁তিনি ▁নিখুঁত ▁বোলিং ▁করত ▁x x bo s ▁ ै कल्प िक ▁सिद्धान्त ले ▁मा चू ▁पिच ू ▁एक ▁कृषि ▁परीक्षण स्थल</td>\n",
       "    </tr>\n",
       "    <tr>\n",
       "      <td>1</td>\n",
       "      <td>▁of ▁a ▁word : ▁x x bo s ▁৭ ▁থেকে ▁১৫ - তম ▁অ্যাসোসিয়েশন ের ▁৩টি ▁করে , ▁১৬ ▁থেকে ▁২৬ - তম ▁অ্যাসোসিয়েশন ের ▁২টি ▁করে ▁এবং ▁বাকী ▁অ্যাসোসিয়েশন ের ▁১টি ▁করে ▁ক্লাব ▁এতে ▁x x bo s ▁തത്ത്വ ശാസ്ത്ര ഞ്ജ ൻ ▁കൂടിയാണ് ▁എന്നൊരു ▁കൃതി ▁കൂടി ▁രചിച്ച ിട്ടുണ്ട് . ▁ , ▁ഒട്ട മൂ ട ൻ ▁എ ▁x x bo s ▁ਵੀ ▁ਮਨੁਖ ੀ ▁ਮਨ ▁ਦੀ ▁ਇਹ ▁ਕਮਜ਼ੋਰ ੀ</td>\n",
       "    </tr>\n",
       "    <tr>\n",
       "      <td>2</td>\n",
       "      <td>▁- ▁ਫ਼ ਾਤ ਿਮਾ ▁ਸ਼ੇਖ਼ ▁ਇਕ ▁ਭਾਰਤ ▁x x bo s ▁യോഗ ിച്ച് ▁എല്ലാ ▁കോ ണ റ ുകളും ▁കാണ ാനുള്ള ▁ഒരു ▁ക്യാമറ കൂടി ▁അവിടെ ▁രൂപ പ്പെടുത്തി . ▁കണ്ണ ിന്റെ ▁പോര ായ് മ കൾ ▁മൊ ബൈ ൽ ▁ ഫോൺ ▁ഉപയോഗിച്ച് ▁കണ്ടെത്ത ാനുള്ള ▁ഒരു ▁ഉപകരണ ം ▁അദ്ദേഹത്തിന്റെ ▁ലാ ബ ിലെ ▁കൂട്ടായ്മ യിൽ ▁നിർ ▁x x bo s ▁ ा ▁सैन्य ाच्या ▁संरक्षण - धो रण ाला ▁पाठिंबा ▁होता , ▁परंतु ▁त्यांनी</td>\n",
       "    </tr>\n",
       "    <tr>\n",
       "      <td>3</td>\n",
       "      <td>&lt;unk&gt; ଷଧ ▁ନାମରେ ▁ଉପଲବ୍ ▁ଧ ▁ହୁଏ ▁। ▁ଏକ ▁ଡୋଜ ▁ପି ଛା ▁ହୋ ଲସେଲ ▁ମୂଲ୍ୟ ▁୦ . ୦୦ ୪ ରୁ ▁୦ . ୦୪ ▁ଆମେ ରି ▁x x bo s ▁ଚି ଙ୍ଗୁ ଡି ଧର ା ▁ଓ ▁ର ପ୍ ତା ନି ▁ଏଠାରେ ▁ମୁଖ୍ୟ ▁ବେ ପା ର ▁। ▁ଆ ଳି , ▁କେନ୍ଦ୍ରାପଡ଼ା , ▁ରାଜ କ ନିକା , ▁ପଟ୍ଟ ା ମୁ ଣ୍ଡ ାଇ , ▁ମାର୍ ଶା ଘ ାଇ , ▁ରାଜ ନଗର ▁କେନ୍ଦ୍ରାପଡ଼ା ▁ସହର କୁ</td>\n",
       "    </tr>\n",
       "    <tr>\n",
       "      <td>4</td>\n",
       "      <td>▁होत . ▁आपल्या ▁कीर्तन कले मु ळ ▁x x bo s ▁তে ▁জাতীয় ▁দলে ▁খেলার ▁জন্য ▁নির্বাচিত ▁হন । ▁১৯৪৬ ▁সালে ▁ভারত ▁দল ▁ইংল্যান্ড ▁সফরে ▁যায় । ▁ঐ ▁সফরে ▁লর্ডসে র ▁প্রথম ▁টেস্টে ▁খেলার ▁সুযোগ ▁পান ▁তিনি । ▁২২ ▁জুন , ▁১৯৪৬ ▁তারিখে ▁ইংল্যান্ডের ▁বিপক্ষে ▁বিজয় ▁হাজার ে ▁ও ▁বিন ু ▁মান কড় ের ▁স ▁x x bo s ▁क ▁मा ▁ओ त प्रो त ▁छ । ▁गार् गी</td>\n",
       "    </tr>\n",
       "  </tbody>\n",
       "</table>"
      ],
      "text/plain": [
       "<IPython.core.display.HTML object>"
      ]
     },
     "metadata": {},
     "output_type": "display_data"
    }
   ],
   "source": [
    "data_lm.show_batch()"
   ]
  },
  {
   "cell_type": "code",
   "execution_count": 23,
   "metadata": {},
   "outputs": [
    {
     "name": "stderr",
     "output_type": "stream",
     "text": [
      "/home/gaurav/anaconda3/envs/fastai-bleed/lib/python3.6/site-packages/fastai/datasets.py:164: YAMLLoadWarning: calling yaml.load() without Loader=... is deprecated, as the default Loader is unsafe. Please read https://msg.pyyaml.org/load for full details.\n",
      "  with open(fpath, 'r') as yaml_file: return yaml.load(yaml_file)\n"
     ]
    }
   ],
   "source": [
    "learn = language_model_learner(data_lm, AWD_LSTM, drop_mult=0.1)"
   ]
  },
  {
   "cell_type": "code",
   "execution_count": 26,
   "metadata": {},
   "outputs": [],
   "source": [
    "# Fine tuning the prtrained LM on current dataset"
   ]
  },
  {
   "cell_type": "code",
   "execution_count": 27,
   "metadata": {},
   "outputs": [
    {
     "data": {
      "text/html": [],
      "text/plain": [
       "<IPython.core.display.HTML object>"
      ]
     },
     "metadata": {},
     "output_type": "display_data"
    },
    {
     "name": "stdout",
     "output_type": "stream",
     "text": [
      "LR Finder is complete, type {learner_name}.recorder.plot() to see the graph.\n"
     ]
    }
   ],
   "source": [
    "learn.lr_find()"
   ]
  },
  {
   "cell_type": "code",
   "execution_count": 28,
   "metadata": {},
   "outputs": [
    {
     "data": {
      "image/png": "[encoded data removed]",
      "text/plain": [
       "<Figure size 432x288 with 1 Axes>"
      ]
     },
     "metadata": {
      "needs_background": "light"
     },
     "output_type": "display_data"
    }
   ],
   "source": [
    "learn.recorder.plot()"
   ]
  },
  {
   "cell_type": "code",
   "execution_count": 29,
   "metadata": {},
   "outputs": [],
   "source": [
    "learn.freeze()"
   ]
  },
  {
   "cell_type": "code",
   "execution_count": 30,
   "metadata": {},
   "outputs": [
    {
     "data": {
      "text/html": [
       "Total time: 54:50 <p><table border=\"1\" class=\"dataframe\">\n",
       "  <thead>\n",
       "    <tr style=\"text-align: left;\">\n",
       "      <th>epoch</th>\n",
       "      <th>train_loss</th>\n",
       "      <th>valid_loss</th>\n",
       "      <th>accuracy</th>\n",
       "      <th>time</th>\n",
       "    </tr>\n",
       "  </thead>\n",
       "  <tbody>\n",
       "    <tr>\n",
       "      <td>0</td>\n",
       "      <td>4.971581</td>\n",
       "      <td>4.870046</td>\n",
       "      <td>0.307754</td>\n",
       "      <td>54:50</td>\n",
       "    </tr>\n",
       "  </tbody>\n",
       "</table>"
      ],
      "text/plain": [
       "<IPython.core.display.HTML object>"
      ]
     },
     "metadata": {},
     "output_type": "display_data"
    }
   ],
   "source": [
    "learn.fit_one_cycle(1, 1e-2, moms=(0.8,0.7))"
   ]
  },
  {
   "cell_type": "code",
   "execution_count": 31,
   "metadata": {},
   "outputs": [],
   "source": [
    "learn.save('first', with_opt=True)"
   ]
  },
  {
   "cell_type": "code",
   "execution_count": 36,
   "metadata": {},
   "outputs": [],
   "source": [
    "learn.load('first', with_opt=True);"
   ]
  },
  {
   "cell_type": "code",
   "execution_count": 32,
   "metadata": {},
   "outputs": [],
   "source": [
    "learn.unfreeze()"
   ]
  },
  {
   "cell_type": "code",
   "execution_count": 33,
   "metadata": {},
   "outputs": [
    {
     "data": {
      "text/html": [
       "Total time: 59:44 <p><table border=\"1\" class=\"dataframe\">\n",
       "  <thead>\n",
       "    <tr style=\"text-align: left;\">\n",
       "      <th>epoch</th>\n",
       "      <th>train_loss</th>\n",
       "      <th>valid_loss</th>\n",
       "      <th>accuracy</th>\n",
       "      <th>time</th>\n",
       "    </tr>\n",
       "  </thead>\n",
       "  <tbody>\n",
       "    <tr>\n",
       "      <td>0</td>\n",
       "      <td>4.471249</td>\n",
       "      <td>4.419579</td>\n",
       "      <td>0.340325</td>\n",
       "      <td>59:43</td>\n",
       "    </tr>\n",
       "  </tbody>\n",
       "</table>"
      ],
      "text/plain": [
       "<IPython.core.display.HTML object>"
      ]
     },
     "metadata": {},
     "output_type": "display_data"
    }
   ],
   "source": [
    "learn.fit_one_cycle(1, 1e-2, moms=(0.8,0.7))"
   ]
  },
  {
   "cell_type": "code",
   "execution_count": 34,
   "metadata": {},
   "outputs": [],
   "source": [
    "learn.save('second', with_opt=True)"
   ]
  },
  {
   "cell_type": "code",
   "execution_count": 24,
   "metadata": {},
   "outputs": [],
   "source": [
    "learn.load('second', with_opt=True);"
   ]
  },
  {
   "cell_type": "code",
   "execution_count": 25,
   "metadata": {},
   "outputs": [
    {
     "data": {
      "text/html": [],
      "text/plain": [
       "<IPython.core.display.HTML object>"
      ]
     },
     "metadata": {},
     "output_type": "display_data"
    },
    {
     "name": "stdout",
     "output_type": "stream",
     "text": [
      "LR Finder is complete, type {learner_name}.recorder.plot() to see the graph.\n"
     ]
    }
   ],
   "source": [
    "learn.lr_find()"
   ]
  },
  {
   "cell_type": "code",
   "execution_count": 26,
   "metadata": {},
   "outputs": [
    {
     "data": {
      "image/png": "[encoded data removed]",
      "text/plain": [
       "<Figure size 432x288 with 1 Axes>"
      ]
     },
     "metadata": {
      "needs_background": "light"
     },
     "output_type": "display_data"
    }
   ],
   "source": [
    "learn.recorder.plot()"
   ]
  },
  {
   "cell_type": "code",
   "execution_count": 27,
   "metadata": {},
   "outputs": [
    {
     "data": {
      "text/html": [
       "Total time: 1:49:48 <p><table border=\"1\" class=\"dataframe\">\n",
       "  <thead>\n",
       "    <tr style=\"text-align: left;\">\n",
       "      <th>epoch</th>\n",
       "      <th>train_loss</th>\n",
       "      <th>valid_loss</th>\n",
       "      <th>accuracy</th>\n",
       "      <th>time</th>\n",
       "    </tr>\n",
       "  </thead>\n",
       "  <tbody>\n",
       "    <tr>\n",
       "      <td>0</td>\n",
       "      <td>4.398503</td>\n",
       "      <td>4.341616</td>\n",
       "      <td>0.347923</td>\n",
       "      <td>54:47</td>\n",
       "    </tr>\n",
       "    <tr>\n",
       "      <td>1</td>\n",
       "      <td>4.343946</td>\n",
       "      <td>4.332032</td>\n",
       "      <td>0.349682</td>\n",
       "      <td>55:00</td>\n",
       "    </tr>\n",
       "  </tbody>\n",
       "</table>"
      ],
      "text/plain": [
       "<IPython.core.display.HTML object>"
      ]
     },
     "metadata": {},
     "output_type": "display_data"
    }
   ],
   "source": [
    "learn.fit_one_cycle(2, 1e-3, moms=(0.8,0.7))"
   ]
  },
  {
   "cell_type": "code",
   "execution_count": 30,
   "metadata": {},
   "outputs": [],
   "source": [
    "learn.save('third', with_opt=True)"
   ]
  },
  {
   "cell_type": "code",
   "execution_count": 40,
   "metadata": {},
   "outputs": [],
   "source": [
    "learn.load('third', with_opt=True);"
   ]
  },
  {
   "cell_type": "code",
   "execution_count": null,
   "metadata": {},
   "outputs": [],
   "source": [
    "# can train more but because of computational and time constraints, stopping training of LM here"
   ]
  },
  {
   "cell_type": "code",
   "execution_count": 31,
   "metadata": {},
   "outputs": [
    {
     "data": {
      "text/plain": [
       "'શાહરૂખ ખાન સાથે ▁લડ ્યા . ▁આ ▁સન્માન ક ▁સો ંબ લે ▁টাই'"
      ]
     },
     "execution_count": 31,
     "metadata": {},
     "output_type": "execute_result"
    }
   ],
   "source": [
    "learn.predict('શાહરૂખ ખાન સાથે',n_words=10)"
   ]
  },
  {
   "cell_type": "code",
   "execution_count": 32,
   "metadata": {},
   "outputs": [],
   "source": [
    "learn.save_encoder('all_language_enc')"
   ]
  },
  {
   "cell_type": "code",
   "execution_count": 33,
   "metadata": {},
   "outputs": [],
   "source": [
    "data_clas = TextClasDataBunch.from_csv(path=path, csv_name='all_languages.csv', tokenizer=tokenizer, vocab=all_language_vocab, text_cols=[0], label_cols=label_cols)"
   ]
  },
  {
   "cell_type": "code",
   "execution_count": 34,
   "metadata": {},
   "outputs": [
    {
     "data": {
      "text/html": [
       "<table border=\"1\" class=\"dataframe\">\n",
       "  <thead>\n",
       "    <tr style=\"text-align: right;\">\n",
       "      <th>text</th>\n",
       "      <th>target</th>\n",
       "    </tr>\n",
       "  </thead>\n",
       "  <tbody>\n",
       "    <tr>\n",
       "      <td>▁x x bo s &lt;unk&gt; ▁l &lt;unk&gt; ▁m &lt;unk&gt; ▁n &lt;unk&gt; ▁o &lt;unk&gt; ▁p &lt;unk&gt; ▁q &lt;unk&gt; ▁r &lt;unk&gt; ▁s &lt;unk&gt; ▁t &lt;unk&gt; ▁u &lt;unk&gt; ▁v &lt;unk&gt; ▁w &lt;unk&gt; ▁x &lt;unk&gt; ▁y ▁ z ▁শীর্ষ ▁- ▁ 0–9 &lt;unk&gt; ▁a &lt;unk&gt; ▁b &lt;unk&gt; ▁c &lt;unk&gt; ▁d &lt;unk&gt; ▁e &lt;unk&gt; ▁f &lt;unk&gt; ▁g &lt;unk&gt; ▁h &lt;unk&gt; ▁i &lt;unk&gt; ▁j &lt;unk&gt; ▁k &lt;unk&gt; ▁l &lt;unk&gt; ▁m &lt;unk&gt; ▁n &lt;unk&gt; ▁o &lt;unk&gt; ▁p</td>\n",
       "      <td>bengali</td>\n",
       "    </tr>\n",
       "    <tr>\n",
       "      <td>▁x x bo s ▁28 ▁• ▁ 229 ▁• ▁230 ▁• ▁2 31 ▁• ▁23 2 ▁• ▁ 233 ▁• ▁2 34 ▁• ▁2 35 ▁• ▁2 36 ▁• ▁2 37 ▁• ▁2 38 ▁• ▁2 39 ▁• ▁240 ▁• ▁ 241 ▁• ▁24 2 ▁• ▁ 243 ▁• ▁24 4 ▁• ▁2 45 ▁• ▁2 46 ▁• ▁2 47 ▁• ▁2 48 ▁• ▁2 49 ▁• ▁250 ▁• ▁25</td>\n",
       "      <td>sanskrit</td>\n",
       "    </tr>\n",
       "    <tr>\n",
       "      <td>▁x x bo s ▁3 39 ▁• ▁3 40 ▁• ▁3 41 ▁• ▁34 2 ▁• ▁ 343 ▁• ▁3 44 ▁• ▁3 45 ▁• ▁3 46 ▁• ▁3 47 ▁• ▁3 48 ▁• ▁3 49 ▁• ▁350 ▁• ▁35 1 ▁• ▁35 2 ▁• ▁3 53 ▁• ▁3 54 ▁• ▁3 55 ▁• ▁3 56 ▁• ▁3 57 ▁• ▁3 58 ▁• ▁3 59 ▁• ▁360 ▁• ▁ 361</td>\n",
       "      <td>sanskrit</td>\n",
       "    </tr>\n",
       "    <tr>\n",
       "      <td>▁x x bo s ▁2 ▁• ▁7 33 ▁• ▁7 34 ▁• ▁7 35 ▁• ▁7 36 ▁• ▁7 37 ▁• ▁7 38 ▁• ▁7 39 ▁• ▁7 40 ▁• ▁7 41 ▁• ▁7 42 ▁• ▁7 43 ▁• ▁744 ▁• ▁7 45 ▁• ▁7 46 ▁• ▁7 47 ▁• ▁7 48 ▁• ▁7 49 ▁• ▁750 ▁• ▁75 1 ▁• ▁75 2 ▁• ▁75 3 ▁• ▁75 4 ▁•</td>\n",
       "      <td>sanskrit</td>\n",
       "    </tr>\n",
       "    <tr>\n",
       "      <td>▁x x bo s ▁• ▁10 23 ▁• ▁10 24 ▁• ▁10 25 ▁• ▁10 26 ▁• ▁10 27 ▁• ▁10 28 ▁• ▁10 29 ▁• ▁10 30 ▁• ▁10 31 ▁• ▁10 32 ▁• ▁10 33 ▁• ▁10 34 ▁• ▁10 35 ▁• ▁10 36 ▁• ▁10 37 ▁• ▁10 38 ▁• ▁10 39 ▁• ▁10 40 ▁• ▁10 41 ▁• ▁10 42 ▁• ▁10 43 ▁• ▁10 44</td>\n",
       "      <td>sanskrit</td>\n",
       "    </tr>\n",
       "  </tbody>\n",
       "</table>"
      ],
      "text/plain": [
       "<IPython.core.display.HTML object>"
      ]
     },
     "metadata": {},
     "output_type": "display_data"
    }
   ],
   "source": [
    "data_clas.show_batch()"
   ]
  },
  {
   "cell_type": "code",
   "execution_count": 35,
   "metadata": {},
   "outputs": [],
   "source": [
    "data_clas.sanity_check()"
   ]
  },
  {
   "cell_type": "code",
   "execution_count": 36,
   "metadata": {},
   "outputs": [
    {
     "name": "stderr",
     "output_type": "stream",
     "text": [
      "/home/gaurav/anaconda3/envs/fastai-bleed/lib/python3.6/site-packages/fastai/datasets.py:164: YAMLLoadWarning: calling yaml.load() without Loader=... is deprecated, as the default Loader is unsafe. Please read https://msg.pyyaml.org/load for full details.\n",
      "  with open(fpath, 'r') as yaml_file: return yaml.load(yaml_file)\n"
     ]
    }
   ],
   "source": [
    "learn = text_classifier_learner(data_clas, AWD_LSTM, drop_mult=0.5)"
   ]
  },
  {
   "cell_type": "code",
   "execution_count": 37,
   "metadata": {},
   "outputs": [],
   "source": [
    "learn.load_encoder('all_language_enc')"
   ]
  },
  {
   "cell_type": "code",
   "execution_count": 38,
   "metadata": {},
   "outputs": [],
   "source": [
    "learn.freeze()"
   ]
  },
  {
   "cell_type": "code",
   "execution_count": 39,
   "metadata": {},
   "outputs": [
    {
     "data": {
      "text/html": [],
      "text/plain": [
       "<IPython.core.display.HTML object>"
      ]
     },
     "metadata": {},
     "output_type": "display_data"
    },
    {
     "name": "stdout",
     "output_type": "stream",
     "text": [
      "LR Finder is complete, type {learner_name}.recorder.plot() to see the graph.\n"
     ]
    }
   ],
   "source": [
    "learn.lr_find()"
   ]
  },
  {
   "cell_type": "code",
   "execution_count": 40,
   "metadata": {},
   "outputs": [
    {
     "data": {
      "image/png": "[encoded data removed]",
      "text/plain": [
       "<Figure size 432x288 with 1 Axes>"
      ]
     },
     "metadata": {
      "needs_background": "light"
     },
     "output_type": "display_data"
    }
   ],
   "source": [
    "learn.recorder.plot()"
   ]
  },
  {
   "cell_type": "code",
   "execution_count": 41,
   "metadata": {},
   "outputs": [
    {
     "data": {
      "text/plain": [
       "CrossEntropyLoss()"
      ]
     },
     "execution_count": 41,
     "metadata": {},
     "output_type": "execute_result"
    }
   ],
   "source": [
    "learn.loss_func.func"
   ]
  },
  {
   "cell_type": "code",
   "execution_count": 42,
   "metadata": {},
   "outputs": [],
   "source": [
    "kappa = KappaScore()"
   ]
  },
  {
   "cell_type": "code",
   "execution_count": 43,
   "metadata": {},
   "outputs": [],
   "source": [
    "learn.metrics = [kappa, accuracy]"
   ]
  },
  {
   "cell_type": "code",
   "execution_count": 44,
   "metadata": {},
   "outputs": [
    {
     "data": {
      "text/html": [
       "Total time: 11:29 <p><table border=\"1\" class=\"dataframe\">\n",
       "  <thead>\n",
       "    <tr style=\"text-align: left;\">\n",
       "      <th>epoch</th>\n",
       "      <th>train_loss</th>\n",
       "      <th>valid_loss</th>\n",
       "      <th>kappa_score</th>\n",
       "      <th>accuracy</th>\n",
       "      <th>time</th>\n",
       "    </tr>\n",
       "  </thead>\n",
       "  <tbody>\n",
       "    <tr>\n",
       "      <td>0</td>\n",
       "      <td>0.066946</td>\n",
       "      <td>0.039318</td>\n",
       "      <td>0.986847</td>\n",
       "      <td>0.988225</td>\n",
       "      <td>11:29</td>\n",
       "    </tr>\n",
       "  </tbody>\n",
       "</table>"
      ],
      "text/plain": [
       "<IPython.core.display.HTML object>"
      ]
     },
     "metadata": {},
     "output_type": "display_data"
    }
   ],
   "source": [
    "learn.fit_one_cycle(1, 1e-1, moms=(0.8,0.7))"
   ]
  },
  {
   "cell_type": "code",
   "execution_count": 45,
   "metadata": {},
   "outputs": [],
   "source": [
    "learn.save('first-full')"
   ]
  },
  {
   "cell_type": "code",
   "execution_count": 46,
   "metadata": {},
   "outputs": [],
   "source": [
    "learn.load('first-full');"
   ]
  },
  {
   "cell_type": "code",
   "execution_count": 47,
   "metadata": {},
   "outputs": [
    {
     "data": {
      "text/html": [
       "Total time: 13:44 <p><table border=\"1\" class=\"dataframe\">\n",
       "  <thead>\n",
       "    <tr style=\"text-align: left;\">\n",
       "      <th>epoch</th>\n",
       "      <th>train_loss</th>\n",
       "      <th>valid_loss</th>\n",
       "      <th>kappa_score</th>\n",
       "      <th>accuracy</th>\n",
       "      <th>time</th>\n",
       "    </tr>\n",
       "  </thead>\n",
       "  <tbody>\n",
       "    <tr>\n",
       "      <td>0</td>\n",
       "      <td>0.040262</td>\n",
       "      <td>0.030857</td>\n",
       "      <td>0.989194</td>\n",
       "      <td>0.990327</td>\n",
       "      <td>13:44</td>\n",
       "    </tr>\n",
       "  </tbody>\n",
       "</table>"
      ],
      "text/plain": [
       "<IPython.core.display.HTML object>"
      ]
     },
     "metadata": {},
     "output_type": "display_data"
    }
   ],
   "source": [
    "learn.freeze_to(-2)\n",
    "learn.fit_one_cycle(1, slice(1e-2/(2.6**4),1e-2), moms=(0.8,0.7))"
   ]
  },
  {
   "cell_type": "code",
   "execution_count": 48,
   "metadata": {},
   "outputs": [],
   "source": [
    "learn.save('second-full')"
   ]
  },
  {
   "cell_type": "code",
   "execution_count": 49,
   "metadata": {},
   "outputs": [],
   "source": [
    "learn.load('second-full');"
   ]
  },
  {
   "cell_type": "code",
   "execution_count": 50,
   "metadata": {},
   "outputs": [
    {
     "data": {
      "text/html": [
       "Total time: 30:54 <p><table border=\"1\" class=\"dataframe\">\n",
       "  <thead>\n",
       "    <tr style=\"text-align: left;\">\n",
       "      <th>epoch</th>\n",
       "      <th>train_loss</th>\n",
       "      <th>valid_loss</th>\n",
       "      <th>kappa_score</th>\n",
       "      <th>accuracy</th>\n",
       "      <th>time</th>\n",
       "    </tr>\n",
       "  </thead>\n",
       "  <tbody>\n",
       "    <tr>\n",
       "      <td>0</td>\n",
       "      <td>0.027080</td>\n",
       "      <td>0.028527</td>\n",
       "      <td>0.990244</td>\n",
       "      <td>0.991266</td>\n",
       "      <td>30:54</td>\n",
       "    </tr>\n",
       "  </tbody>\n",
       "</table>"
      ],
      "text/plain": [
       "<IPython.core.display.HTML object>"
      ]
     },
     "metadata": {},
     "output_type": "display_data"
    }
   ],
   "source": [
    "learn.unfreeze()\n",
    "learn.fit_one_cycle(1, slice(2e-3/100, 2e-3))"
   ]
  },
  {
   "cell_type": "code",
   "execution_count": 51,
   "metadata": {},
   "outputs": [],
   "source": [
    "learn.save('final')"
   ]
  },
  {
   "cell_type": "code",
   "execution_count": 52,
   "metadata": {},
   "outputs": [],
   "source": [
    "learn.load('final');"
   ]
  },
  {
   "cell_type": "code",
   "execution_count": 53,
   "metadata": {},
   "outputs": [
    {
     "data": {
      "text/plain": [
       "(Category gujarati,\n",
       " tensor(1),\n",
       " tensor([3.4170e-06, 9.9988e-01, 2.8218e-06, 8.3763e-06, 2.7963e-06, 1.6409e-05,\n",
       "         7.9966e-06, 3.3894e-06, 6.5106e-06, 7.0642e-05]))"
      ]
     },
     "execution_count": 53,
     "metadata": {},
     "output_type": "execute_result"
    }
   ],
   "source": [
    "learn.predict('પ્રિયંકા ચોપડાને પતિ નિક પાસેથી મળી 2.7 કરોડ રૂપિયાની ગિફ્ટ, કિસ કરીને બોલી- લવ યૂ બેબી')"
   ]
  },
  {
   "cell_type": "code",
   "execution_count": 54,
   "metadata": {},
   "outputs": [
    {
     "data": {
      "text/plain": [
       "(Category gujarati,\n",
       " tensor(1),\n",
       " tensor([1.0356e-04, 9.8104e-01, 1.7799e-02, 2.6421e-04, 1.2676e-04, 1.2063e-04,\n",
       "         2.7969e-04, 6.6006e-05, 1.7085e-04, 2.9288e-05]))"
      ]
     },
     "execution_count": 54,
     "metadata": {},
     "output_type": "execute_result"
    }
   ],
   "source": [
    "learn.predict(\"કલંકઃ 21 વર્ષ બાદ એકસાથે જોવા મળશે સંજય विकिपीडिया सभी विषयों पर प्रामाणिक और उपयोग, परिवर्तन\")"
   ]
  },
  {
   "cell_type": "code",
   "execution_count": 55,
   "metadata": {},
   "outputs": [
    {
     "data": {
      "text/plain": [
       "(Category hindi,\n",
       " tensor(2),\n",
       " tensor([1.2817e-04, 6.9185e-04, 9.9410e-01, 1.8238e-04, 1.2050e-04, 1.9287e-03,\n",
       "         2.1868e-03, 6.3652e-05, 5.5892e-04, 4.1031e-05]))"
      ]
     },
     "execution_count": 55,
     "metadata": {},
     "output_type": "execute_result"
    }
   ],
   "source": [
    "learn.predict(\"विकिपीडिया सभी विषयों पर प्रामाणिक और उपयोग, परिवर्तन\")"
   ]
  },
  {
   "cell_type": "code",
   "execution_count": 56,
   "metadata": {},
   "outputs": [
    {
     "data": {
      "text/plain": [
       "(Category bengali,\n",
       " tensor(0),\n",
       " tensor([9.7619e-01, 2.2613e-02, 7.3288e-05, 1.0816e-04, 1.1210e-04, 1.1946e-04,\n",
       "         1.4435e-04, 1.1606e-04, 1.5883e-04, 3.6179e-04]))"
      ]
     },
     "execution_count": 56,
     "metadata": {},
     "output_type": "execute_result"
    }
   ],
   "source": [
    "learn.predict(\"বিষয়ক নিবন্ধ তৈরি করতে উইকি লাভস ওমেন ২০১৯ অনলাইন এডিটাথনে যোগ দিন જનકલી નોટો ઓળખવા માટે એક નવી સ્માર્ટફોન એપ આવી\")"
   ]
  },
  {
   "cell_type": "code",
   "execution_count": null,
   "metadata": {},
   "outputs": [],
   "source": [
    "defaults.device = torch.device('cpu')\n",
    "learn.model.eval()\n",
    "learn.export()"
   ]
  }
 ],
 "metadata": {
  "kernelspec": {
   "display_name": "Python 3",
   "language": "python",
   "name": "python3"
  },
  "language_info": {
   "codemirror_mode": {
    "name": "ipython",
    "version": 3
   },
   "file_extension": ".py",
   "mimetype": "text/x-python",
   "name": "python",
   "nbconvert_exporter": "python",
   "pygments_lexer": "ipython3",
   "version": "3.6.8"
  }
 },
 "nbformat": 4,
 "nbformat_minor": 2
}
