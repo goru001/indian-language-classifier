{
 "cells": [
  {
   "cell_type": "code",
   "execution_count": 1,
   "metadata": {},
   "outputs": [],
   "source": [
    "import sentencepiece as spm\n",
    "import pickle\n",
    "import pathlib"
   ]
  },
  {
   "cell_type": "code",
   "execution_count": 2,
   "metadata": {},
   "outputs": [
    {
     "name": "stdout",
     "output_type": "stream",
     "text": [
      "/home/gaurav/PycharmProjects/language-classifier/tokenizer\r\n"
     ]
    }
   ],
   "source": [
    "!pwd"
   ]
  },
  {
   "cell_type": "code",
   "execution_count": 3,
   "metadata": {},
   "outputs": [],
   "source": [
    "path = pathlib.Path('/home/gaurav/PycharmProjects/language-classifier/')"
   ]
  },
  {
   "cell_type": "code",
   "execution_count": 4,
   "metadata": {},
   "outputs": [],
   "source": [
    "files = ['hindi.txt', 'panjabi.txt', 'sanskrit.txt', 'marathi.txt', 'malyalam.txt', 'gujarati.txt', 'kannada.txt', 'nepali.txt', 'bengali.txt', 'odia.txt']"
   ]
  },
  {
   "cell_type": "code",
   "execution_count": 5,
   "metadata": {},
   "outputs": [],
   "source": [
    "flist = []\n",
    "for file in files:\n",
    "    flist.append(str(path/'dataset-preparation'/f'{file}'))"
   ]
  },
  {
   "cell_type": "code",
   "execution_count": 6,
   "metadata": {},
   "outputs": [],
   "source": [
    "flist = ','.join(flist)"
   ]
  },
  {
   "cell_type": "code",
   "execution_count": 7,
   "metadata": {},
   "outputs": [
    {
     "data": {
      "text/plain": [
       "'/home/gaurav/PycharmProjects/language-classifier/dataset-preparation/hindi.txt,/home/gaurav/PycharmProjects/language-classifier/dataset-preparation/panjabi.txt,/home/gaurav/PycharmProjects/language-classifier/dataset-preparation/sanskrit.txt,/home/gaurav/PycharmProjects/language-classifier/dataset-preparation/marathi.txt,/home/gaurav/PycharmProjects/language-classifier/dataset-preparation/malyalam.txt,/home/gaurav/PycharmProjects/language-classifier/dataset-preparation/gujarati.txt,/home/gaurav/PycharmProjects/language-classifier/dataset-preparation/kannada.txt,/home/gaurav/PycharmProjects/language-classifier/dataset-preparation/nepali.txt,/home/gaurav/PycharmProjects/language-classifier/dataset-preparation/bengali.txt,/home/gaurav/PycharmProjects/language-classifier/dataset-preparation/odia.txt'"
      ]
     },
     "execution_count": 7,
     "metadata": {},
     "output_type": "execute_result"
    }
   ],
   "source": [
    "flist"
   ]
  },
  {
   "cell_type": "code",
   "execution_count": 8,
   "metadata": {},
   "outputs": [
    {
     "data": {
      "text/plain": [
       "True"
      ]
     },
     "execution_count": 8,
     "metadata": {},
     "output_type": "execute_result"
    }
   ],
   "source": [
    "spm.SentencePieceTrainer.Train(f'--input={flist} --model_prefix=all_language --vocab_size=90000')"
   ]
  },
  {
   "cell_type": "code",
   "execution_count": 9,
   "metadata": {},
   "outputs": [],
   "source": [
    "text = 'ગુજરાત અને ભારતમાં સ્થાન\\n• ઉંચાઇ\\n• 66 metres \\nમાલણકા ભારત દેશના પશ્ચિમ ભાગમાં આવેલા ગુજરાતના સૌરાષ્ટ્ર વિસ્તારમાં આવેલા ભાવનગર જિલ્લામાં આવેલા કુલ ૧૧ તાલુકાઓ પૈકીના એક એવા ભાવનગર તાલુકામાં આવેલું એક ગામ છે. આ ગામના લોકોનો મુખ્ય વ્યવસાય ખેતી, ખેતમજૂરી તેમ જ પશુપાલન છે. આ ગામમાં મુખ્યત્વે ઘઉં, જીરુ, મગફળી, તલ, બાજરી, ચણા, કપાસ, દિવેલા, રજકો તેમ જ અન્ય શાકભાજીના પાકની ખેતી કરવામાં આવે છે. આ ગામમાં પ્રાથમિક શાળા, પંચાયતઘર તેમ જ દૂધની ડેરી જેવી સવલતો પ્રાપ્ય થયેલી છે.'"
   ]
  },
  {
   "cell_type": "code",
   "execution_count": 10,
   "metadata": {},
   "outputs": [],
   "source": [
    "sp = spm.SentencePieceProcessor()"
   ]
  },
  {
   "cell_type": "code",
   "execution_count": 11,
   "metadata": {},
   "outputs": [
    {
     "data": {
      "text/plain": [
       "True"
      ]
     },
     "execution_count": 11,
     "metadata": {},
     "output_type": "execute_result"
    }
   ],
   "source": [
    "sp.Load(\"all_language.model\")"
   ]
  },
  {
   "cell_type": "code",
   "execution_count": 12,
   "metadata": {},
   "outputs": [
    {
     "data": {
      "text/plain": [
       "['▁ગુજરાત',\n",
       " '▁અને',\n",
       " '▁ભારતમાં',\n",
       " '▁સ્થાન',\n",
       " '▁•',\n",
       " '▁ઉંચાઇ',\n",
       " '▁•',\n",
       " '▁66',\n",
       " '▁metres',\n",
       " '▁માલ',\n",
       " 'ણ',\n",
       " 'કા',\n",
       " '▁ભારત',\n",
       " '▁દેશના',\n",
       " '▁પશ્ચિમ',\n",
       " '▁ભાગમાં',\n",
       " '▁આવેલા',\n",
       " '▁ગુજરાતના',\n",
       " '▁સૌરાષ્ટ્ર',\n",
       " '▁વિસ્તારમાં',\n",
       " '▁આવેલા',\n",
       " '▁ભાવનગર',\n",
       " '▁જિલ્લામાં',\n",
       " '▁આવેલા',\n",
       " '▁કુલ',\n",
       " '▁૧૧',\n",
       " '▁તાલુકાઓ',\n",
       " '▁પૈકીના',\n",
       " '▁એક',\n",
       " '▁એવા',\n",
       " '▁ભાવનગર',\n",
       " '▁તાલુકામાં',\n",
       " '▁આવેલું',\n",
       " '▁એક',\n",
       " '▁ગામ',\n",
       " '▁છે',\n",
       " '.',\n",
       " '▁આ',\n",
       " '▁ગામના',\n",
       " '▁લોકોનો',\n",
       " '▁મુખ્ય',\n",
       " '▁વ્યવસાય',\n",
       " '▁ખેતી',\n",
       " ',',\n",
       " '▁ખેતમજૂરી',\n",
       " '▁તેમ',\n",
       " '▁જ',\n",
       " '▁પશુપાલન',\n",
       " '▁છે',\n",
       " '.',\n",
       " '▁આ',\n",
       " '▁ગામમાં',\n",
       " '▁મુખ્યત્વે',\n",
       " '▁ઘઉં',\n",
       " ',',\n",
       " '▁જીરુ',\n",
       " ',',\n",
       " '▁મગફળી',\n",
       " ',',\n",
       " '▁તલ',\n",
       " ',',\n",
       " '▁બાજરી',\n",
       " ',',\n",
       " '▁ચણા',\n",
       " ',',\n",
       " '▁કપાસ',\n",
       " ',',\n",
       " '▁દિવેલા',\n",
       " ',',\n",
       " '▁રજકો',\n",
       " '▁તેમ',\n",
       " '▁જ',\n",
       " '▁અન્ય',\n",
       " '▁શાકભાજીના',\n",
       " '▁પાક',\n",
       " 'ની',\n",
       " '▁ખેતી',\n",
       " '▁કરવામાં',\n",
       " '▁આવે',\n",
       " '▁છે',\n",
       " '.',\n",
       " '▁આ',\n",
       " '▁ગામમાં',\n",
       " '▁પ્રાથમિક',\n",
       " '▁શાળા',\n",
       " ',',\n",
       " '▁પંચાયતઘર',\n",
       " '▁તેમ',\n",
       " '▁જ',\n",
       " '▁દૂધ',\n",
       " 'ની',\n",
       " '▁ડેરી',\n",
       " '▁જેવી',\n",
       " '▁સવલતો',\n",
       " '▁પ્રાપ્ય',\n",
       " '▁થયેલી',\n",
       " '▁છે',\n",
       " '.']"
      ]
     },
     "execution_count": 12,
     "metadata": {},
     "output_type": "execute_result"
    }
   ],
   "source": [
    "sp.EncodeAsPieces(text)"
   ]
  },
  {
   "cell_type": "code",
   "execution_count": null,
   "metadata": {},
   "outputs": [],
   "source": []
  }
 ],
 "metadata": {
  "kernelspec": {
   "display_name": "Python 3",
   "language": "python",
   "name": "python3"
  },
  "language_info": {
   "codemirror_mode": {
    "name": "ipython",
    "version": 3
   },
   "file_extension": ".py",
   "mimetype": "text/x-python",
   "name": "python",
   "nbconvert_exporter": "python",
   "pygments_lexer": "ipython3",
   "version": "3.6.8"
  }
 },
 "nbformat": 4,
 "nbformat_minor": 2
}
