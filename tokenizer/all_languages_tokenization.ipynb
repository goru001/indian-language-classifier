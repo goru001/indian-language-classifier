{
 "cells": [
  {
   "cell_type": "code",
   "execution_count": 1,
   "metadata": {},
   "outputs": [],
   "source": [
    "import sentencepiece as spm\n",
    "import pickle\n",
    "import pathlib"
   ]
  },
  {
   "cell_type": "code",
   "execution_count": 2,
   "metadata": {},
   "outputs": [
    {
     "name": "stdout",
     "output_type": "stream",
     "text": [
      "/home/gaurav/PycharmProjects/language-classifier/tokenizer\r\n"
     ]
    }
   ],
   "source": [
    "!pwd"
   ]
  },
  {
   "cell_type": "code",
   "execution_count": 3,
   "metadata": {},
   "outputs": [],
   "source": [
    "path = pathlib.Path('/home/gaurav/PycharmProjects/language-classifier/')"
   ]
  },
  {
   "cell_type": "code",
   "execution_count": 4,
   "metadata": {},
   "outputs": [],
   "source": [
    "files = ['hindi.txt', 'panjabi.txt', 'sanskrit.txt', 'marathi.txt', 'malyalam.txt', 'gujarati.txt', 'kannada.txt', 'nepali.txt', 'bengali.txt', 'odia.txt', 'urdu.txt', 'tamil.txt', 'maithili.txt']"
   ]
  },
  {
   "cell_type": "code",
   "execution_count": 5,
   "metadata": {},
   "outputs": [
    {
     "data": {
      "text/plain": [
       "13"
      ]
     },
     "execution_count": 5,
     "metadata": {},
     "output_type": "execute_result"
    }
   ],
   "source": [
    "len(files)"
   ]
  },
  {
   "cell_type": "code",
   "execution_count": 6,
   "metadata": {},
   "outputs": [],
   "source": [
    "flist = []\n",
    "for file in files:\n",
    "    flist.append(str(path/'dataset-preparation'/f'{file}'))"
   ]
  },
  {
   "cell_type": "code",
   "execution_count": 7,
   "metadata": {},
   "outputs": [],
   "source": [
    "flist = ','.join(flist)"
   ]
  },
  {
   "cell_type": "code",
   "execution_count": 8,
   "metadata": {},
   "outputs": [
    {
     "data": {
      "text/plain": [
       "'/home/gaurav/PycharmProjects/language-classifier/dataset-preparation/hindi.txt,/home/gaurav/PycharmProjects/language-classifier/dataset-preparation/panjabi.txt,/home/gaurav/PycharmProjects/language-classifier/dataset-preparation/sanskrit.txt,/home/gaurav/PycharmProjects/language-classifier/dataset-preparation/marathi.txt,/home/gaurav/PycharmProjects/language-classifier/dataset-preparation/malyalam.txt,/home/gaurav/PycharmProjects/language-classifier/dataset-preparation/gujarati.txt,/home/gaurav/PycharmProjects/language-classifier/dataset-preparation/kannada.txt,/home/gaurav/PycharmProjects/language-classifier/dataset-preparation/nepali.txt,/home/gaurav/PycharmProjects/language-classifier/dataset-preparation/bengali.txt,/home/gaurav/PycharmProjects/language-classifier/dataset-preparation/odia.txt,/home/gaurav/PycharmProjects/language-classifier/dataset-preparation/urdu.txt,/home/gaurav/PycharmProjects/language-classifier/dataset-preparation/tamil.txt,/home/gaurav/PycharmProjects/language-classifier/dataset-preparation/maithili.txt'"
      ]
     },
     "execution_count": 8,
     "metadata": {},
     "output_type": "execute_result"
    }
   ],
   "source": [
    "flist"
   ]
  },
  {
   "cell_type": "code",
   "execution_count": 9,
   "metadata": {},
   "outputs": [
    {
     "data": {
      "text/plain": [
       "True"
      ]
     },
     "execution_count": 9,
     "metadata": {},
     "output_type": "execute_result"
    }
   ],
   "source": [
    "spm.SentencePieceTrainer.Train(f'--input={flist} --model_prefix=all_language --vocab_size=120000')"
   ]
  },
  {
   "cell_type": "code",
   "execution_count": 14,
   "metadata": {},
   "outputs": [],
   "source": [
    "text = 'चंदन का शर्बत एक शर्बत छी।\\nलिम्बा नेपालके मेच દેશના પશ્ચિમ ભાગમાં આવેલા ગુજરાતના સૌરાષ્ટ્ર વિસ્તારમાં આવેલા ભાવનગર જિલ્લામાં આવેલા કુલ ૧૧ તાલુકાઓ પૈકીના એક એવા ભાવનગર તાલુકામાં આવેલું એક ગામ છે. આ ગામના લોકોનો મુખ્ય વ્યવસાય ખેતી, ખેતમજૂરી તેમ જ પશુપાલન છે. આ ગામમાં મુખ્યત્વે ઘઉં, જીરુ, મગફળી, તલ, બાજરી, ચણા, કપાસ, દિવેલા, રજકો તેમ જ અન્ય શાકભાજીના પાકની ખેતી કરવામાં આવે છે. આ ગામમાં પ્રાથમિક શાળા, પંચાયતઘર તેમ જ દૂધની ડેરી જેવી સવલતો પ્રાપ્ય થયેલી છે.'"
   ]
  },
  {
   "cell_type": "code",
   "execution_count": 15,
   "metadata": {},
   "outputs": [],
   "source": [
    "sp = spm.SentencePieceProcessor()"
   ]
  },
  {
   "cell_type": "code",
   "execution_count": 16,
   "metadata": {},
   "outputs": [
    {
     "data": {
      "text/plain": [
       "True"
      ]
     },
     "execution_count": 16,
     "metadata": {},
     "output_type": "execute_result"
    }
   ],
   "source": [
    "sp.Load(\"all_language.model\")"
   ]
  },
  {
   "cell_type": "code",
   "execution_count": 17,
   "metadata": {},
   "outputs": [
    {
     "data": {
      "text/plain": [
       "['▁चंदन',\n",
       " '▁का',\n",
       " '▁शर्',\n",
       " 'बत',\n",
       " '▁एक',\n",
       " '▁शर्',\n",
       " 'बत',\n",
       " '▁छी',\n",
       " '।',\n",
       " '▁लि',\n",
       " 'म्बा',\n",
       " '▁नेपालके',\n",
       " '▁मे',\n",
       " 'च',\n",
       " '▁દેશના',\n",
       " '▁પશ્ચિમ',\n",
       " '▁ભાગમાં',\n",
       " '▁આવેલા',\n",
       " '▁ગુજરાતના',\n",
       " '▁સૌરાષ્ટ્ર',\n",
       " '▁વિસ્તારમાં',\n",
       " '▁આવેલા',\n",
       " '▁ભાવનગર',\n",
       " '▁જિલ્લામાં',\n",
       " '▁આવેલા',\n",
       " '▁કુલ',\n",
       " '▁૧૧',\n",
       " '▁તાલુકાઓ',\n",
       " '▁પૈકીના',\n",
       " '▁એક',\n",
       " '▁એવા',\n",
       " '▁ભાવનગર',\n",
       " '▁તાલુકામાં',\n",
       " '▁આવેલું',\n",
       " '▁એક',\n",
       " '▁ગામ',\n",
       " '▁છે',\n",
       " '.',\n",
       " '▁આ',\n",
       " '▁ગામના',\n",
       " '▁લોકોનો',\n",
       " '▁મુખ્ય',\n",
       " '▁વ્યવસાય',\n",
       " '▁ખેતી',\n",
       " ',',\n",
       " '▁ખેતમજૂરી',\n",
       " '▁તેમ',\n",
       " '▁જ',\n",
       " '▁પશુપાલન',\n",
       " '▁છે',\n",
       " '.',\n",
       " '▁આ',\n",
       " '▁ગામમાં',\n",
       " '▁મુખ્યત્વે',\n",
       " '▁ઘઉં',\n",
       " ',',\n",
       " '▁જીરુ',\n",
       " ',',\n",
       " '▁મગફળી',\n",
       " ',',\n",
       " '▁તલ',\n",
       " ',',\n",
       " '▁બાજરી',\n",
       " ',',\n",
       " '▁ચણા',\n",
       " ',',\n",
       " '▁કપાસ',\n",
       " ',',\n",
       " '▁દિવેલા',\n",
       " ',',\n",
       " '▁રજકો',\n",
       " '▁તેમ',\n",
       " '▁જ',\n",
       " '▁અન્ય',\n",
       " '▁શાકભાજીના',\n",
       " '▁પાક',\n",
       " 'ની',\n",
       " '▁ખેતી',\n",
       " '▁કરવામાં',\n",
       " '▁આવે',\n",
       " '▁છે',\n",
       " '.',\n",
       " '▁આ',\n",
       " '▁ગામમાં',\n",
       " '▁પ્રાથમિક',\n",
       " '▁શાળા',\n",
       " ',',\n",
       " '▁પંચાયતઘર',\n",
       " '▁તેમ',\n",
       " '▁જ',\n",
       " '▁દૂધ',\n",
       " 'ની',\n",
       " '▁ડેરી',\n",
       " '▁જેવી',\n",
       " '▁સવલતો',\n",
       " '▁પ્રાપ્ય',\n",
       " '▁થયેલી',\n",
       " '▁છે',\n",
       " '.']"
      ]
     },
     "execution_count": 17,
     "metadata": {},
     "output_type": "execute_result"
    }
   ],
   "source": [
    "sp.EncodeAsPieces(text)"
   ]
  },
  {
   "cell_type": "code",
   "execution_count": null,
   "metadata": {},
   "outputs": [],
   "source": []
  }
 ],
 "metadata": {
  "kernelspec": {
   "display_name": "Python 3",
   "language": "python",
   "name": "python3"
  },
  "language_info": {
   "codemirror_mode": {
    "name": "ipython",
    "version": 3
   },
   "file_extension": ".py",
   "mimetype": "text/x-python",
   "name": "python",
   "nbconvert_exporter": "python",
   "pygments_lexer": "ipython3",
   "version": "3.6.7"
  }
 },
 "nbformat": 4,
 "nbformat_minor": 2
}
